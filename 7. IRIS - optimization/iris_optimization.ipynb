{
 "cells": [
  {
   "cell_type": "markdown",
   "metadata": {},
   "source": [
    "# Домашнаяя работа. Функции потерь и оптимизация"
   ]
  },
  {
   "cell_type": "markdown",
   "metadata": {},
   "source": [
    "Задание:\n",
    "\n",
    "Реализовать самостоятельно логистическую регрессию\n",
    "- Обучить ее методом градиентного спуска\n",
    "- Методом nesterov momentum\n",
    "- Методом rmsprop\n",
    "\n",
    "В качестве dataset'а взять Iris, оставив 2 класса:\n",
    "- Iris Versicolor\n",
    "- Iris Virginica"
   ]
  },
  {
   "cell_type": "markdown",
   "metadata": {},
   "source": [
    "## 0. Библиотеки"
   ]
  },
  {
   "cell_type": "code",
   "execution_count": 144,
   "metadata": {},
   "outputs": [],
   "source": [
    "# Работа с данными\n",
    "import pandas as pd\n",
    "import numpy as np\n",
    "\n",
    "# Датасет\n",
    "from sklearn import datasets\n",
    "\n",
    "# Дополнительные фичи\n",
    "from sklearn.model_selection import train_test_split\n",
    "\n",
    "# Модели \n",
    "from sklearn.linear_model import LogisticRegression\n",
    "\n",
    "#Визуализации\n",
    "import seaborn as sns"
   ]
  },
  {
   "cell_type": "markdown",
   "metadata": {},
   "source": [
    "## 1. Работа с данными"
   ]
  },
  {
   "cell_type": "code",
   "execution_count": 145,
   "metadata": {},
   "outputs": [],
   "source": [
    "# Загрузим датасет\n",
    "dataset = datasets.load_iris()"
   ]
  },
  {
   "cell_type": "code",
   "execution_count": 146,
   "metadata": {},
   "outputs": [],
   "source": [
    "X = pd.DataFrame(data=dataset.data, columns=dataset.feature_names)\n",
    "Y = pd.DataFrame(dataset.target, columns=['target'])\n",
    "Y['target_name'] = Y.apply(lambda row: dataset.target_names[row.target], axis=1)\n",
    "data = pd.concat([X, Y], axis=1)"
   ]
  },
  {
   "cell_type": "code",
   "execution_count": 147,
   "metadata": {},
   "outputs": [],
   "source": [
    "# Уберем ненужный класс setosa и оставим в датасете тольео Iris Versicolor Iris Virginica\n",
    "data = data[(data.target_name!='setosa')].reset_index()\n",
    "X = data.drop(['target', 'target_name'], axis=1)\n",
    "y = data['target']"
   ]
  },
  {
   "cell_type": "code",
   "execution_count": 148,
   "metadata": {},
   "outputs": [],
   "source": [
    "X_train, X_test, y_train, y_test = train_test_split(X, y, test_size = 0.3, random_state = 0)"
   ]
  },
  {
   "cell_type": "code",
   "execution_count": 149,
   "metadata": {},
   "outputs": [
    {
     "data": {
      "text/html": [
       "<div>\n",
       "<style scoped>\n",
       "    .dataframe tbody tr th:only-of-type {\n",
       "        vertical-align: middle;\n",
       "    }\n",
       "\n",
       "    .dataframe tbody tr th {\n",
       "        vertical-align: top;\n",
       "    }\n",
       "\n",
       "    .dataframe thead th {\n",
       "        text-align: right;\n",
       "    }\n",
       "</style>\n",
       "<table border=\"1\" class=\"dataframe\">\n",
       "  <thead>\n",
       "    <tr style=\"text-align: right;\">\n",
       "      <th></th>\n",
       "      <th>index</th>\n",
       "      <th>sepal length (cm)</th>\n",
       "      <th>sepal width (cm)</th>\n",
       "      <th>petal length (cm)</th>\n",
       "      <th>petal width (cm)</th>\n",
       "      <th>target</th>\n",
       "      <th>target_name</th>\n",
       "    </tr>\n",
       "  </thead>\n",
       "  <tbody>\n",
       "    <tr>\n",
       "      <th>0</th>\n",
       "      <td>50</td>\n",
       "      <td>7.0</td>\n",
       "      <td>3.2</td>\n",
       "      <td>4.7</td>\n",
       "      <td>1.4</td>\n",
       "      <td>1</td>\n",
       "      <td>versicolor</td>\n",
       "    </tr>\n",
       "    <tr>\n",
       "      <th>1</th>\n",
       "      <td>51</td>\n",
       "      <td>6.4</td>\n",
       "      <td>3.2</td>\n",
       "      <td>4.5</td>\n",
       "      <td>1.5</td>\n",
       "      <td>1</td>\n",
       "      <td>versicolor</td>\n",
       "    </tr>\n",
       "    <tr>\n",
       "      <th>2</th>\n",
       "      <td>52</td>\n",
       "      <td>6.9</td>\n",
       "      <td>3.1</td>\n",
       "      <td>4.9</td>\n",
       "      <td>1.5</td>\n",
       "      <td>1</td>\n",
       "      <td>versicolor</td>\n",
       "    </tr>\n",
       "    <tr>\n",
       "      <th>3</th>\n",
       "      <td>53</td>\n",
       "      <td>5.5</td>\n",
       "      <td>2.3</td>\n",
       "      <td>4.0</td>\n",
       "      <td>1.3</td>\n",
       "      <td>1</td>\n",
       "      <td>versicolor</td>\n",
       "    </tr>\n",
       "    <tr>\n",
       "      <th>4</th>\n",
       "      <td>54</td>\n",
       "      <td>6.5</td>\n",
       "      <td>2.8</td>\n",
       "      <td>4.6</td>\n",
       "      <td>1.5</td>\n",
       "      <td>1</td>\n",
       "      <td>versicolor</td>\n",
       "    </tr>\n",
       "  </tbody>\n",
       "</table>\n",
       "</div>"
      ],
      "text/plain": [
       "   index  sepal length (cm)  sepal width (cm)  petal length (cm)  \\\n",
       "0     50                7.0               3.2                4.7   \n",
       "1     51                6.4               3.2                4.5   \n",
       "2     52                6.9               3.1                4.9   \n",
       "3     53                5.5               2.3                4.0   \n",
       "4     54                6.5               2.8                4.6   \n",
       "\n",
       "   petal width (cm)  target target_name  \n",
       "0               1.4       1  versicolor  \n",
       "1               1.5       1  versicolor  \n",
       "2               1.5       1  versicolor  \n",
       "3               1.3       1  versicolor  \n",
       "4               1.5       1  versicolor  "
      ]
     },
     "execution_count": 149,
     "metadata": {},
     "output_type": "execute_result"
    }
   ],
   "source": [
    "data.head()"
   ]
  },
  {
   "cell_type": "markdown",
   "metadata": {},
   "source": [
    "## 2. Модель - Логистическая регрессия с помощью библиотеки sklearn"
   ]
  },
  {
   "cell_type": "code",
   "execution_count": 150,
   "metadata": {},
   "outputs": [
    {
     "data": {
      "text/plain": [
       "LogisticRegression(C=1.0, class_weight=None, dual=False, fit_intercept=True,\n",
       "          intercept_scaling=1, max_iter=100, multi_class='ovr', n_jobs=1,\n",
       "          penalty='l2', random_state=None, solver='liblinear', tol=0.0001,\n",
       "          verbose=0, warm_start=False)"
      ]
     },
     "execution_count": 150,
     "metadata": {},
     "output_type": "execute_result"
    }
   ],
   "source": [
    "# Обучение модели из коробки\n",
    "model = LogisticRegression()\n",
    "model.fit(X_train, y_train)"
   ]
  },
  {
   "cell_type": "code",
   "execution_count": 151,
   "metadata": {},
   "outputs": [
    {
     "data": {
      "text/plain": [
       "1.0"
      ]
     },
     "execution_count": 151,
     "metadata": {},
     "output_type": "execute_result"
    }
   ],
   "source": [
    "predictions = model.predict(X_test)\n",
    "model.score(X_test, y_test)"
   ]
  },
  {
   "cell_type": "code",
   "execution_count": 152,
   "metadata": {},
   "outputs": [
    {
     "data": {
      "text/plain": [
       "array([[ 0.09506532, -1.92040064, -1.53548879,  1.2514556 ,  1.26424529]])"
      ]
     },
     "execution_count": 152,
     "metadata": {},
     "output_type": "execute_result"
    }
   ],
   "source": [
    "# Подобранные коэффициенты для линейной регрессии\n",
    "model.coef_"
   ]
  },
  {
   "cell_type": "code",
   "execution_count": 153,
   "metadata": {},
   "outputs": [
    {
     "data": {
      "text/html": [
       "<div>\n",
       "<style scoped>\n",
       "    .dataframe tbody tr th:only-of-type {\n",
       "        vertical-align: middle;\n",
       "    }\n",
       "\n",
       "    .dataframe tbody tr th {\n",
       "        vertical-align: top;\n",
       "    }\n",
       "\n",
       "    .dataframe thead th {\n",
       "        text-align: right;\n",
       "    }\n",
       "</style>\n",
       "<table border=\"1\" class=\"dataframe\">\n",
       "  <thead>\n",
       "    <tr style=\"text-align: right;\">\n",
       "      <th></th>\n",
       "      <th>index</th>\n",
       "      <th>sepal length (cm)</th>\n",
       "      <th>sepal width (cm)</th>\n",
       "      <th>petal length (cm)</th>\n",
       "      <th>petal width (cm)</th>\n",
       "      <th>target</th>\n",
       "      <th>prediction</th>\n",
       "    </tr>\n",
       "  </thead>\n",
       "  <tbody>\n",
       "    <tr>\n",
       "      <th>0</th>\n",
       "      <td>76</td>\n",
       "      <td>6.8</td>\n",
       "      <td>2.8</td>\n",
       "      <td>4.8</td>\n",
       "      <td>1.4</td>\n",
       "      <td>1</td>\n",
       "      <td>1</td>\n",
       "    </tr>\n",
       "    <tr>\n",
       "      <th>1</th>\n",
       "      <td>136</td>\n",
       "      <td>6.3</td>\n",
       "      <td>3.4</td>\n",
       "      <td>5.6</td>\n",
       "      <td>2.4</td>\n",
       "      <td>2</td>\n",
       "      <td>2</td>\n",
       "    </tr>\n",
       "    <tr>\n",
       "      <th>2</th>\n",
       "      <td>52</td>\n",
       "      <td>6.9</td>\n",
       "      <td>3.1</td>\n",
       "      <td>4.9</td>\n",
       "      <td>1.5</td>\n",
       "      <td>1</td>\n",
       "      <td>1</td>\n",
       "    </tr>\n",
       "    <tr>\n",
       "      <th>3</th>\n",
       "      <td>105</td>\n",
       "      <td>7.6</td>\n",
       "      <td>3.0</td>\n",
       "      <td>6.6</td>\n",
       "      <td>2.1</td>\n",
       "      <td>2</td>\n",
       "      <td>2</td>\n",
       "    </tr>\n",
       "    <tr>\n",
       "      <th>4</th>\n",
       "      <td>125</td>\n",
       "      <td>7.2</td>\n",
       "      <td>3.2</td>\n",
       "      <td>6.0</td>\n",
       "      <td>1.8</td>\n",
       "      <td>2</td>\n",
       "      <td>2</td>\n",
       "    </tr>\n",
       "  </tbody>\n",
       "</table>\n",
       "</div>"
      ],
      "text/plain": [
       "   index  sepal length (cm)  sepal width (cm)  petal length (cm)  \\\n",
       "0     76                6.8               2.8                4.8   \n",
       "1    136                6.3               3.4                5.6   \n",
       "2     52                6.9               3.1                4.9   \n",
       "3    105                7.6               3.0                6.6   \n",
       "4    125                7.2               3.2                6.0   \n",
       "\n",
       "   petal width (cm)  target  prediction  \n",
       "0               1.4       1           1  \n",
       "1               2.4       2           2  \n",
       "2               1.5       1           1  \n",
       "3               2.1       2           2  \n",
       "4               1.8       2           2  "
      ]
     },
     "execution_count": 153,
     "metadata": {},
     "output_type": "execute_result"
    }
   ],
   "source": [
    "plot_data = pd.concat([X_test, pd.DataFrame(y_test)], axis=1)\n",
    "plot_data = pd.concat([plot_data.reset_index(drop=True), \n",
    "                           pd.DataFrame(predictions, columns=['prediction'])], axis=1)\n",
    "plot_data.head()"
   ]
  },
  {
   "cell_type": "code",
   "execution_count": 154,
   "metadata": {},
   "outputs": [
    {
     "data": {
      "text/plain": [
       "<matplotlib.axes._subplots.AxesSubplot at 0x1a1e2d82e8>"
      ]
     },
     "execution_count": 154,
     "metadata": {},
     "output_type": "execute_result"
    },
    {
     "data": {
      "image/png": "[encoded data removed]",
      "text/plain": [
       "<Figure size 432x288 with 1 Axes>"
      ]
     },
     "metadata": {},
     "output_type": "display_data"
    }
   ],
   "source": [
    "sns.scatterplot(x='sepal length (cm)', y='sepal width (cm)', \n",
    "                    hue='prediction', palette=sns.color_palette(n_colors=2), data=plot_data)"
   ]
  },
  {
   "cell_type": "code",
   "execution_count": 155,
   "metadata": {
    "scrolled": true
   },
   "outputs": [
    {
     "data": {
      "text/plain": [
       "<matplotlib.axes._subplots.AxesSubplot at 0x1a1e3b3278>"
      ]
     },
     "execution_count": 155,
     "metadata": {},
     "output_type": "execute_result"
    },
    {
     "data": {
      "image/png": "[encoded data removed]",
      "text/plain": [
       "<Figure size 432x288 with 1 Axes>"
      ]
     },
     "metadata": {},
     "output_type": "display_data"
    }
   ],
   "source": [
    "sns.scatterplot(x='petal length (cm)', y='petal width (cm)', \n",
    "                    hue='prediction', palette=sns.color_palette(n_colors=2), data=plot_data)"
   ]
  },
  {
   "cell_type": "markdown",
   "metadata": {},
   "source": [
    "Текущая модель логистической регрессии для Ирисов:\n",
    "\n",
    "$$h_\\theta(x_i) = \\theta_0 + \\theta_1x_1 + \\theta_2x_2 + \\theta_3x_3 + \\theta_4x_4$$ \n",
    "где: \n",
    "\n",
    "- $x_1$ - sepal length (cm)\n",
    "- $x_2$ - sepal width (cm)\n",
    "- $x_3$ - petal length (cm)\n",
    "- $x_4$ - petal width (cm)\n"
   ]
  },
  {
   "cell_type": "markdown",
   "metadata": {},
   "source": [
    "#### Будем использовать L2 Loss функцию, которую следует оптимизировать для заданной модели линейной регрессии\n",
    "\n",
    "\n",
    "$$J(\\theta_0,\\theta_1,\\theta_2,\\theta_3,\\theta_4) = \\frac{1}{2}\\sum_{i=1}^{N}(y_i - \\theta^Tx_i)^2$$\n",
    "\n",
    "При этом $Y_{pred}$ можно считать как:\n",
    "$$Y_{pred} = \\theta_0 + \\theta_1x_1 + \\theta_2x_2 + \\theta_3x_3 + \\theta_4x_4$$\n",
    "\n",
    "При этом каждая $\\theta$ становится целевым параметром, по которому будет производиться градиентный спуск:\n",
    "\n",
    "$$\\dfrac{d}{d\\theta_0}J(\\theta_0,\\theta_1,\\theta_2,\\theta_3,\\theta_4)=\\dfrac{1}{m}\\sum_{i=1}^{m}(h_\\theta(x^{(i)}) -y^{(i)})$$\n",
    "$$\\dfrac{d}{d\\theta_1}J(\\theta_0,\\theta_1,\\theta_2,\\theta_3,\\theta_4)=\\dfrac{1}{m}\\sum_{i=1}^{m}(h_\\theta(x^{(i)}) -y^{(i)})x_{1i}$$\n",
    "$$\\dfrac{d}{d\\theta_2}J(\\theta_0,\\theta_1,\\theta_2,\\theta_3,\\theta_4)=\\dfrac{1}{m}\\sum_{i=1}^{m}(h_\\theta(x^{(i)}) -y^{(i)})x_{2i}$$\n",
    "$$\\dfrac{d}{d\\theta_3}J(\\theta_0,\\theta_1,\\theta_2,\\theta_3,\\theta_4)=\\dfrac{1}{m}\\sum_{i=1}^{m}(h_\\theta(x^{(i)}) -y^{(i)})x_{3i}$$\n",
    "$$\\dfrac{d}{d\\theta_4}J(\\theta_0,\\theta_1,\\theta_2,\\theta_3,\\theta_4)=\\dfrac{1}{m}\\sum_{i=1}^{m}(h_\\theta(x^{(i)}) -y^{(i)})x_{4i}$$\n",
    "\n"
   ]
  },
  {
   "cell_type": "code",
   "execution_count": 159,
   "metadata": {},
   "outputs": [
    {
     "data": {
      "text/plain": [
       "array([ 0.29410993, -0.84757994, -0.84888986, -0.4975152 ])"
      ]
     },
     "execution_count": 159,
     "metadata": {},
     "output_type": "execute_result"
    }
   ],
   "source": [
    "EPOCHS = 120\n",
    "LEARNING_RATE = 0.0001\n",
    "\n",
    "costs = []\n",
    "params = []\n",
    "preds = []\n",
    "params = np.random.normal(size=(4,))\n",
    "\n",
    "for _ in range(EPOCHS):\n",
    "    current_prediction = params[0] + params[1] * X[i]\n",
    "    \n",
    "    params[0] -= LEARNING_RATE * (current_prediction - Y[i])\n",
    "    params[1] -= LEARNING_RATE * ((current_prediction - Y[i]) * X[i])\n",
    "    params[2] -= LEARNING_RATE * ((current_prediction - Y[i]) * X[i])\n",
    "    params[3] -= LEARNING_RATE * ((current_prediction - Y[i]) * X[i])\n",
    "    params[4] -= LEARNING_RATE * ((current_prediction - Y[i]) * X[i])\n",
    "    \n",
    "params"
   ]
  },
  {
   "cell_type": "code",
   "execution_count": null,
   "metadata": {},
   "outputs": [],
   "source": []
  },
  {
   "cell_type": "code",
   "execution_count": null,
   "metadata": {},
   "outputs": [],
   "source": []
  },
  {
   "cell_type": "markdown",
   "metadata": {},
   "source": [
    "### 3.1 Метод градиентного спуска"
   ]
  },
  {
   "cell_type": "code",
   "execution_count": null,
   "metadata": {},
   "outputs": [],
   "source": [
    "x1, x2, x3, x4 = 0, 0, 0, 0\n",
    "x1_new, x2_new, x3_new, x4_new = 2, 2, 2, 2\n",
    "rate = 0.01\n",
    "precision = 0.0001"
   ]
  },
  {
   "cell_type": "markdown",
   "metadata": {},
   "source": [
    "Необходимо оптимизировать модель с помощью метода градиентного спуска:\n",
    "\n",
    "##### Градиентный спуск\n",
    "Оптимизационный алгоритм для поиска локального минимума функции. Относится к методам первого порядка. Для поиска минимума делаем шаг в направлении, обратном градиенту функции.\n",
    "\n",
    "###### Алгоритм:\n",
    "1. Задаем $\\gamma$ - \"learning rate\"\n",
    "2. Выбираем начальное приближение $x_0$\n",
    "3. for k = 0, 1, 2 ... do\n",
    "    1. $s_k$ = -$\\nabla f(x_k)$\n",
    "    2. $x_{k+1} = x_k + \\gamma s_k$"
   ]
  },
  {
   "cell_type": "markdown",
   "metadata": {},
   "source": [
    "### 3.2 Метод nesterov momentum"
   ]
  },
  {
   "cell_type": "code",
   "execution_count": null,
   "metadata": {},
   "outputs": [],
   "source": []
  },
  {
   "cell_type": "markdown",
   "metadata": {},
   "source": [
    "### 3.3 Метод rmsprop"
   ]
  },
  {
   "cell_type": "code",
   "execution_count": null,
   "metadata": {},
   "outputs": [],
   "source": []
  }
 ],
 "metadata": {
  "kernelspec": {
   "display_name": "Python 3",
   "language": "python",
   "name": "python3"
  },
  "language_info": {
   "codemirror_mode": {
    "name": "ipython",
    "version": 3
   },
   "file_extension": ".py",
   "mimetype": "text/x-python",
   "name": "python",
   "nbconvert_exporter": "python",
   "pygments_lexer": "ipython3",
   "version": "3.6.5"
  }
 },
 "nbformat": 4,
 "nbformat_minor": 2
}
