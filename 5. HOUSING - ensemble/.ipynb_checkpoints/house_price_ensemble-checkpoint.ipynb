{
 "cells": [
  {
   "cell_type": "markdown",
   "metadata": {},
   "source": [
    "# Домашнее задание. Ансамблирование моделей"
   ]
  },
  {
   "cell_type": "markdown",
   "metadata": {},
   "source": [
    "- Теперь решаем задачу регрессии - предскажем цены на недвижимость. Использовать датасет https://www.kaggle.com/c/house-prices-advanced-regression-techniques/data (train.csv)\n",
    "- Данных немного, поэтому необходимо использовать 10-fold кросс-валидацию для оценки качества моделей\n",
    "- Построить случайный лес, вывести важность признаков\n",
    "- Обучить стекинг как минимум 3х моделей, использовать хотя бы 1 линейную модель и 1 нелинейную\n",
    "- Для валидации модели 2-го уровня использовать отдельный hold-out датасет, как на занятии\n",
    "- Показать, что использование ансамблей моделей действительно улучшает качество (стекинг vs другие модели сравнивать на hold-out)\n",
    "- В качестве решения: Jupyter notebook с кодом, комментариями и графиками, ссылка на гитхаб"
   ]
  },
  {
   "cell_type": "markdown",
   "metadata": {},
   "source": [
    "## 0. Библиотеки"
   ]
  },
  {
   "cell_type": "code",
   "execution_count": 40,
   "metadata": {},
   "outputs": [],
   "source": [
    "# Для работы с данными\n",
    "import pandas as pd\n",
    "import numpy as np\n",
    "\n",
    "#Для работы с моделями\n",
    "from sklearn.datasets import load_iris\n",
    "from sklearn.model_selection import train_test_split\n",
    "from sklearn.ensemble import RandomForestRegressor\n",
    "from sklearn import metrics\n",
    "\n",
    "from sklearn.metrics import mean_squared_log_error, mean_squared_error\n",
    "from sklearn.model_selection import cross_val_score\n",
    "\n",
    "#Для визуализации\n",
    "import matplotlib.pyplot as plt\n",
    "%matplotlib inline\n",
    "\n",
    "from jupyterthemes import jtplot\n",
    "jtplot.style()"
   ]
  },
  {
   "cell_type": "markdown",
   "metadata": {},
   "source": [
    "## 1. Загрузка данных"
   ]
  },
  {
   "cell_type": "code",
   "execution_count": 41,
   "metadata": {
    "scrolled": false
   },
   "outputs": [],
   "source": [
    "train_data = pd.read_csv('data/train.csv')\n",
    "test_data = pd.read_csv('data/test.csv')"
   ]
  },
  {
   "cell_type": "code",
   "execution_count": 42,
   "metadata": {
    "scrolled": true
   },
   "outputs": [
    {
     "name": "stdout",
     "output_type": "stream",
     "text": [
      "<class 'pandas.core.frame.DataFrame'>\n",
      "RangeIndex: 1460 entries, 0 to 1459\n",
      "Data columns (total 81 columns):\n",
      "Id               1460 non-null int64\n",
      "MSSubClass       1460 non-null int64\n",
      "MSZoning         1460 non-null object\n",
      "LotFrontage      1201 non-null float64\n",
      "LotArea          1460 non-null int64\n",
      "Street           1460 non-null object\n",
      "Alley            91 non-null object\n",
      "LotShape         1460 non-null object\n",
      "LandContour      1460 non-null object\n",
      "Utilities        1460 non-null object\n",
      "LotConfig        1460 non-null object\n",
      "LandSlope        1460 non-null object\n",
      "Neighborhood     1460 non-null object\n",
      "Condition1       1460 non-null object\n",
      "Condition2       1460 non-null object\n",
      "BldgType         1460 non-null object\n",
      "HouseStyle       1460 non-null object\n",
      "OverallQual      1460 non-null int64\n",
      "OverallCond      1460 non-null int64\n",
      "YearBuilt        1460 non-null int64\n",
      "YearRemodAdd     1460 non-null int64\n",
      "RoofStyle        1460 non-null object\n",
      "RoofMatl         1460 non-null object\n",
      "Exterior1st      1460 non-null object\n",
      "Exterior2nd      1460 non-null object\n",
      "MasVnrType       1452 non-null object\n",
      "MasVnrArea       1452 non-null float64\n",
      "ExterQual        1460 non-null object\n",
      "ExterCond        1460 non-null object\n",
      "Foundation       1460 non-null object\n",
      "BsmtQual         1423 non-null object\n",
      "BsmtCond         1423 non-null object\n",
      "BsmtExposure     1422 non-null object\n",
      "BsmtFinType1     1423 non-null object\n",
      "BsmtFinSF1       1460 non-null int64\n",
      "BsmtFinType2     1422 non-null object\n",
      "BsmtFinSF2       1460 non-null int64\n",
      "BsmtUnfSF        1460 non-null int64\n",
      "TotalBsmtSF      1460 non-null int64\n",
      "Heating          1460 non-null object\n",
      "HeatingQC        1460 non-null object\n",
      "CentralAir       1460 non-null object\n",
      "Electrical       1459 non-null object\n",
      "1stFlrSF         1460 non-null int64\n",
      "2ndFlrSF         1460 non-null int64\n",
      "LowQualFinSF     1460 non-null int64\n",
      "GrLivArea        1460 non-null int64\n",
      "BsmtFullBath     1460 non-null int64\n",
      "BsmtHalfBath     1460 non-null int64\n",
      "FullBath         1460 non-null int64\n",
      "HalfBath         1460 non-null int64\n",
      "BedroomAbvGr     1460 non-null int64\n",
      "KitchenAbvGr     1460 non-null int64\n",
      "KitchenQual      1460 non-null object\n",
      "TotRmsAbvGrd     1460 non-null int64\n",
      "Functional       1460 non-null object\n",
      "Fireplaces       1460 non-null int64\n",
      "FireplaceQu      770 non-null object\n",
      "GarageType       1379 non-null object\n",
      "GarageYrBlt      1379 non-null float64\n",
      "GarageFinish     1379 non-null object\n",
      "GarageCars       1460 non-null int64\n",
      "GarageArea       1460 non-null int64\n",
      "GarageQual       1379 non-null object\n",
      "GarageCond       1379 non-null object\n",
      "PavedDrive       1460 non-null object\n",
      "WoodDeckSF       1460 non-null int64\n",
      "OpenPorchSF      1460 non-null int64\n",
      "EnclosedPorch    1460 non-null int64\n",
      "3SsnPorch        1460 non-null int64\n",
      "ScreenPorch      1460 non-null int64\n",
      "PoolArea         1460 non-null int64\n",
      "PoolQC           7 non-null object\n",
      "Fence            281 non-null object\n",
      "MiscFeature      54 non-null object\n",
      "MiscVal          1460 non-null int64\n",
      "MoSold           1460 non-null int64\n",
      "YrSold           1460 non-null int64\n",
      "SaleType         1460 non-null object\n",
      "SaleCondition    1460 non-null object\n",
      "SalePrice        1460 non-null int64\n",
      "dtypes: float64(3), int64(35), object(43)\n",
      "memory usage: 924.0+ KB\n"
     ]
    }
   ],
   "source": [
    "train_data.info()"
   ]
  },
  {
   "cell_type": "markdown",
   "metadata": {},
   "source": [
    "### 1.1 Замена пустых значений и работа с категориальными признаками"
   ]
  },
  {
   "cell_type": "code",
   "execution_count": 43,
   "metadata": {
    "scrolled": true
   },
   "outputs": [],
   "source": [
    "# Находим не категориальные признаки\n",
    "cat_feat_train = list(train_data.dtypes[(train_data.dtypes == object)].index)\n",
    "cat_feat_test = list(train_data.dtypes[(train_data.dtypes == object)].index)\n",
    "\n",
    "train_data[cat_feat_train] = train_data[cat_feat_train].fillna('nan')\n",
    "test_data[cat_feat_test] = test_data[cat_feat_test].fillna('nan')\n",
    "\n",
    "cat_nunique = train_data[cat_feat_train].nunique()\n",
    "cat_feat = list(cat_nunique[cat_nunique < 30].index)\n",
    "\n",
    "# Не категориальные признаки\n",
    "num_feat = [f for f in train_data if f not in (cat_feat + ['ID', 'SalePrice'])]"
   ]
  },
  {
   "cell_type": "code",
   "execution_count": 44,
   "metadata": {
    "scrolled": true
   },
   "outputs": [],
   "source": [
    "# Создаем дамми-переменные для категориальных признаков\n",
    "dummy_train = pd.get_dummies(train_data[cat_feat], columns=cat_feat)\n",
    "dummy_test = pd.get_dummies(test_data[cat_feat], columns=cat_feat)\n",
    "\n",
    "dummy_train_cols = list(set(dummy_train))\n",
    "dummy_test_cols = list(set(dummy_test))\n",
    "\n",
    "dummy_train = dummy_train[dummy_train_cols]\n",
    "dummy_test = dummy_test[dummy_test_cols]\n",
    "\n",
    "train = pd.concat([train_data[num_feat].fillna(-999), dummy_train], axis=1)\n",
    "for i in list(set(dummy_test.columns) - set(dummy_train.columns)):\n",
    "    train[i] = 0\n",
    "\n",
    "test = pd.concat([test_data[num_feat].fillna(-999), dummy_test], axis=1)\n",
    "for i in list(set(dummy_train.columns) - set(dummy_test.columns)):\n",
    "    test[i] = 0"
   ]
  },
  {
   "cell_type": "markdown",
   "metadata": {},
   "source": [
    "### 1.2 Обучающие и тестовые выборки"
   ]
  },
  {
   "cell_type": "code",
   "execution_count": 45,
   "metadata": {},
   "outputs": [],
   "source": [
    "X = train.loc[:, train.columns]\n",
    "y = train_data['SalePrice']"
   ]
  },
  {
   "cell_type": "code",
   "execution_count": 46,
   "metadata": {},
   "outputs": [],
   "source": [
    "X_kaggle_test = test.loc[:, test.columns]"
   ]
  },
  {
   "cell_type": "code",
   "execution_count": 47,
   "metadata": {},
   "outputs": [],
   "source": [
    "X_train, X_test, y_train, y_test = train_test_split(X, y, test_size=0.10, random_state=42)"
   ]
  },
  {
   "cell_type": "markdown",
   "metadata": {},
   "source": [
    "## 2. Модель - Случайный лес. Анализ важности признаков"
   ]
  },
  {
   "cell_type": "code",
   "execution_count": 48,
   "metadata": {},
   "outputs": [],
   "source": [
    "model_forest = RandomForestRegressor(n_estimators=100, max_depth=5, min_samples_leaf=10, max_features=0.5, n_jobs=-1)"
   ]
  },
  {
   "cell_type": "code",
   "execution_count": 49,
   "metadata": {
    "scrolled": false
   },
   "outputs": [
    {
     "data": {
      "text/plain": [
       "0.8226445010329255"
      ]
     },
     "execution_count": 49,
     "metadata": {},
     "output_type": "execute_result"
    }
   ],
   "source": [
    "score = cross_val_score(model_forest, X_train, y_train, cv=10)\n",
    "# Оценка модели с помощью кросс-валидации на 10-fold\n",
    "score.mean()"
   ]
  },
  {
   "cell_type": "code",
   "execution_count": 50,
   "metadata": {},
   "outputs": [],
   "source": [
    "# Зафитим модель и посчитаем предсказания для тестовой выборки\n",
    "model_forest.fit(X,y)\n",
    "forest_predictions = model_forest.predict(X_test)"
   ]
  },
  {
   "cell_type": "code",
   "execution_count": 51,
   "metadata": {},
   "outputs": [
    {
     "data": {
      "text/plain": [
       "0.02533744194969466"
      ]
     },
     "execution_count": 51,
     "metadata": {},
     "output_type": "execute_result"
    }
   ],
   "source": [
    "# Оценка качества модели исходя из метрики, обозначенной на Kaggle - Mean Squared Log Error\n",
    "mean_squared_log_error(y_test, forest_predictions)"
   ]
  },
  {
   "cell_type": "code",
   "execution_count": 52,
   "metadata": {
    "scrolled": true
   },
   "outputs": [],
   "source": [
    "kaggle_preditions = model_forest.predict(X_kaggle_test)"
   ]
  },
  {
   "cell_type": "code",
   "execution_count": 53,
   "metadata": {},
   "outputs": [],
   "source": [
    "# Записываем данные для отправки на Kaggle\n",
    "result = X_kaggle_test.loc[:, ['Id']]\n",
    "result['SalePrice'] = kaggle_preditions\n",
    "result.to_csv('forest_results.csv', index=False)"
   ]
  },
  {
   "cell_type": "markdown",
   "metadata": {},
   "source": [
    "Выполнили сабмит на Kaggle, после чего получила не самый лучший результат:\n",
    "\n",
    "<img src='kaggle_forest.png'>\n",
    "\n",
    "При этом оценка на тестовых данных из выборки и оценка на Kaggle отличается весьма сильно, что может свидетельствовать о переобучении модели"
   ]
  },
  {
   "cell_type": "code",
   "execution_count": 54,
   "metadata": {
    "scrolled": false
   },
   "outputs": [
    {
     "data": {
      "text/html": [
       "<style  type=\"text/css\" >\n",
       "    #T_a7293bac_2ac8_11e9_97a7_8c8590586881row0_col1 {\n",
       "            width:  10em;\n",
       "             height:  80%;\n",
       "            background:  linear-gradient(90deg,#d65f5f 100.0%, transparent 0%);\n",
       "        }    #T_a7293bac_2ac8_11e9_97a7_8c8590586881row1_col1 {\n",
       "            width:  10em;\n",
       "             height:  80%;\n",
       "            background:  linear-gradient(90deg,#d65f5f 25.4%, transparent 0%);\n",
       "        }    #T_a7293bac_2ac8_11e9_97a7_8c8590586881row2_col1 {\n",
       "            width:  10em;\n",
       "             height:  80%;\n",
       "            background:  linear-gradient(90deg,#d65f5f 21.7%, transparent 0%);\n",
       "        }    #T_a7293bac_2ac8_11e9_97a7_8c8590586881row3_col1 {\n",
       "            width:  10em;\n",
       "             height:  80%;\n",
       "            background:  linear-gradient(90deg,#d65f5f 8.9%, transparent 0%);\n",
       "        }    #T_a7293bac_2ac8_11e9_97a7_8c8590586881row4_col1 {\n",
       "            width:  10em;\n",
       "             height:  80%;\n",
       "            background:  linear-gradient(90deg,#d65f5f 7.2%, transparent 0%);\n",
       "        }    #T_a7293bac_2ac8_11e9_97a7_8c8590586881row5_col1 {\n",
       "            width:  10em;\n",
       "             height:  80%;\n",
       "            background:  linear-gradient(90deg,#d65f5f 7.0%, transparent 0%);\n",
       "        }    #T_a7293bac_2ac8_11e9_97a7_8c8590586881row6_col1 {\n",
       "            width:  10em;\n",
       "             height:  80%;\n",
       "            background:  linear-gradient(90deg,#d65f5f 4.8%, transparent 0%);\n",
       "        }    #T_a7293bac_2ac8_11e9_97a7_8c8590586881row7_col1 {\n",
       "            width:  10em;\n",
       "             height:  80%;\n",
       "            background:  linear-gradient(90deg,#d65f5f 4.7%, transparent 0%);\n",
       "        }    #T_a7293bac_2ac8_11e9_97a7_8c8590586881row8_col1 {\n",
       "            width:  10em;\n",
       "             height:  80%;\n",
       "            background:  linear-gradient(90deg,#d65f5f 3.7%, transparent 0%);\n",
       "        }    #T_a7293bac_2ac8_11e9_97a7_8c8590586881row9_col1 {\n",
       "            width:  10em;\n",
       "             height:  80%;\n",
       "            background:  linear-gradient(90deg,#d65f5f 2.3%, transparent 0%);\n",
       "        }    #T_a7293bac_2ac8_11e9_97a7_8c8590586881row10_col1 {\n",
       "            width:  10em;\n",
       "             height:  80%;\n",
       "            background:  linear-gradient(90deg,#d65f5f 2.0%, transparent 0%);\n",
       "        }    #T_a7293bac_2ac8_11e9_97a7_8c8590586881row11_col1 {\n",
       "            width:  10em;\n",
       "             height:  80%;\n",
       "            background:  linear-gradient(90deg,#d65f5f 1.4%, transparent 0%);\n",
       "        }    #T_a7293bac_2ac8_11e9_97a7_8c8590586881row12_col1 {\n",
       "            width:  10em;\n",
       "             height:  80%;\n",
       "            background:  linear-gradient(90deg,#d65f5f 1.3%, transparent 0%);\n",
       "        }    #T_a7293bac_2ac8_11e9_97a7_8c8590586881row13_col1 {\n",
       "            width:  10em;\n",
       "             height:  80%;\n",
       "            background:  linear-gradient(90deg,#d65f5f 1.0%, transparent 0%);\n",
       "        }    #T_a7293bac_2ac8_11e9_97a7_8c8590586881row14_col1 {\n",
       "            width:  10em;\n",
       "             height:  80%;\n",
       "            background:  linear-gradient(90deg,#d65f5f 0.8%, transparent 0%);\n",
       "        }    #T_a7293bac_2ac8_11e9_97a7_8c8590586881row15_col1 {\n",
       "            width:  10em;\n",
       "             height:  80%;\n",
       "            background:  linear-gradient(90deg,#d65f5f 0.6%, transparent 0%);\n",
       "        }    #T_a7293bac_2ac8_11e9_97a7_8c8590586881row16_col1 {\n",
       "            width:  10em;\n",
       "             height:  80%;\n",
       "            background:  linear-gradient(90deg,#d65f5f 0.3%, transparent 0%);\n",
       "        }    #T_a7293bac_2ac8_11e9_97a7_8c8590586881row17_col1 {\n",
       "            width:  10em;\n",
       "             height:  80%;\n",
       "            background:  linear-gradient(90deg,#d65f5f 0.3%, transparent 0%);\n",
       "        }    #T_a7293bac_2ac8_11e9_97a7_8c8590586881row18_col1 {\n",
       "            width:  10em;\n",
       "             height:  80%;\n",
       "            background:  linear-gradient(90deg,#d65f5f 0.2%, transparent 0%);\n",
       "        }    #T_a7293bac_2ac8_11e9_97a7_8c8590586881row19_col1 {\n",
       "            width:  10em;\n",
       "             height:  80%;\n",
       "            background:  linear-gradient(90deg,#d65f5f 0.2%, transparent 0%);\n",
       "        }    #T_a7293bac_2ac8_11e9_97a7_8c8590586881row20_col1 {\n",
       "            width:  10em;\n",
       "             height:  80%;\n",
       "            background:  linear-gradient(90deg,#d65f5f 0.2%, transparent 0%);\n",
       "        }    #T_a7293bac_2ac8_11e9_97a7_8c8590586881row21_col1 {\n",
       "            width:  10em;\n",
       "             height:  80%;\n",
       "            background:  linear-gradient(90deg,#d65f5f 0.1%, transparent 0%);\n",
       "        }    #T_a7293bac_2ac8_11e9_97a7_8c8590586881row22_col1 {\n",
       "            width:  10em;\n",
       "             height:  80%;\n",
       "            background:  linear-gradient(90deg,#d65f5f 0.1%, transparent 0%);\n",
       "        }    #T_a7293bac_2ac8_11e9_97a7_8c8590586881row23_col1 {\n",
       "            width:  10em;\n",
       "             height:  80%;\n",
       "            background:  linear-gradient(90deg,#d65f5f 0.1%, transparent 0%);\n",
       "        }    #T_a7293bac_2ac8_11e9_97a7_8c8590586881row24_col1 {\n",
       "            width:  10em;\n",
       "             height:  80%;\n",
       "        }</style>  \n",
       "<table id=\"T_a7293bac_2ac8_11e9_97a7_8c8590586881\" > \n",
       "<thead>    <tr> \n",
       "        <th class=\"blank level0\" ></th> \n",
       "        <th class=\"col_heading level0 col0\" >column</th> \n",
       "        <th class=\"col_heading level0 col1\" >importance</th> \n",
       "    </tr></thead> \n",
       "<tbody>    <tr> \n",
       "        <th id=\"T_a7293bac_2ac8_11e9_97a7_8c8590586881level0_row0\" class=\"row_heading level0 row0\" >4</th> \n",
       "        <td id=\"T_a7293bac_2ac8_11e9_97a7_8c8590586881row0_col0\" class=\"data row0 col0\" >OverallQual</td> \n",
       "        <td id=\"T_a7293bac_2ac8_11e9_97a7_8c8590586881row0_col1\" class=\"data row0 col1\" >0.464497</td> \n",
       "    </tr>    <tr> \n",
       "        <th id=\"T_a7293bac_2ac8_11e9_97a7_8c8590586881level0_row1\" class=\"row_heading level0 row1\" >26</th> \n",
       "        <td id=\"T_a7293bac_2ac8_11e9_97a7_8c8590586881row1_col0\" class=\"data row1 col0\" >GarageCars</td> \n",
       "        <td id=\"T_a7293bac_2ac8_11e9_97a7_8c8590586881row1_col1\" class=\"data row1 col1\" >0.118014</td> \n",
       "    </tr>    <tr> \n",
       "        <th id=\"T_a7293bac_2ac8_11e9_97a7_8c8590586881level0_row2\" class=\"row_heading level0 row2\" >16</th> \n",
       "        <td id=\"T_a7293bac_2ac8_11e9_97a7_8c8590586881row2_col0\" class=\"data row2 col0\" >GrLivArea</td> \n",
       "        <td id=\"T_a7293bac_2ac8_11e9_97a7_8c8590586881row2_col1\" class=\"data row2 col1\" >0.101252</td> \n",
       "    </tr>    <tr> \n",
       "        <th id=\"T_a7293bac_2ac8_11e9_97a7_8c8590586881level0_row3\" class=\"row_heading level0 row3\" >12</th> \n",
       "        <td id=\"T_a7293bac_2ac8_11e9_97a7_8c8590586881row3_col0\" class=\"data row3 col0\" >TotalBsmtSF</td> \n",
       "        <td id=\"T_a7293bac_2ac8_11e9_97a7_8c8590586881row3_col1\" class=\"data row3 col1\" >0.0416176</td> \n",
       "    </tr>    <tr> \n",
       "        <th id=\"T_a7293bac_2ac8_11e9_97a7_8c8590586881level0_row4\" class=\"row_heading level0 row4\" >13</th> \n",
       "        <td id=\"T_a7293bac_2ac8_11e9_97a7_8c8590586881row4_col0\" class=\"data row4 col0\" >1stFlrSF</td> \n",
       "        <td id=\"T_a7293bac_2ac8_11e9_97a7_8c8590586881row4_col1\" class=\"data row4 col1\" >0.033762</td> \n",
       "    </tr>    <tr> \n",
       "        <th id=\"T_a7293bac_2ac8_11e9_97a7_8c8590586881level0_row5\" class=\"row_heading level0 row5\" >6</th> \n",
       "        <td id=\"T_a7293bac_2ac8_11e9_97a7_8c8590586881row5_col0\" class=\"data row5 col0\" >YearBuilt</td> \n",
       "        <td id=\"T_a7293bac_2ac8_11e9_97a7_8c8590586881row5_col1\" class=\"data row5 col1\" >0.0326264</td> \n",
       "    </tr>    <tr> \n",
       "        <th id=\"T_a7293bac_2ac8_11e9_97a7_8c8590586881level0_row6\" class=\"row_heading level0 row6\" >9</th> \n",
       "        <td id=\"T_a7293bac_2ac8_11e9_97a7_8c8590586881row6_col0\" class=\"data row6 col0\" >BsmtFinSF1</td> \n",
       "        <td id=\"T_a7293bac_2ac8_11e9_97a7_8c8590586881row6_col1\" class=\"data row6 col1\" >0.0224639</td> \n",
       "    </tr>    <tr> \n",
       "        <th id=\"T_a7293bac_2ac8_11e9_97a7_8c8590586881level0_row7\" class=\"row_heading level0 row7\" >27</th> \n",
       "        <td id=\"T_a7293bac_2ac8_11e9_97a7_8c8590586881row7_col0\" class=\"data row7 col0\" >GarageArea</td> \n",
       "        <td id=\"T_a7293bac_2ac8_11e9_97a7_8c8590586881row7_col1\" class=\"data row7 col1\" >0.0221748</td> \n",
       "    </tr>    <tr> \n",
       "        <th id=\"T_a7293bac_2ac8_11e9_97a7_8c8590586881level0_row8\" class=\"row_heading level0 row8\" >19</th> \n",
       "        <td id=\"T_a7293bac_2ac8_11e9_97a7_8c8590586881row8_col0\" class=\"data row8 col0\" >FullBath</td> \n",
       "        <td id=\"T_a7293bac_2ac8_11e9_97a7_8c8590586881row8_col1\" class=\"data row8 col1\" >0.0176019</td> \n",
       "    </tr>    <tr> \n",
       "        <th id=\"T_a7293bac_2ac8_11e9_97a7_8c8590586881level0_row9\" class=\"row_heading level0 row9\" >3</th> \n",
       "        <td id=\"T_a7293bac_2ac8_11e9_97a7_8c8590586881row9_col0\" class=\"data row9 col0\" >LotArea</td> \n",
       "        <td id=\"T_a7293bac_2ac8_11e9_97a7_8c8590586881row9_col1\" class=\"data row9 col1\" >0.0111745</td> \n",
       "    </tr>    <tr> \n",
       "        <th id=\"T_a7293bac_2ac8_11e9_97a7_8c8590586881level0_row10\" class=\"row_heading level0 row10\" >14</th> \n",
       "        <td id=\"T_a7293bac_2ac8_11e9_97a7_8c8590586881row10_col0\" class=\"data row10 col0\" >2ndFlrSF</td> \n",
       "        <td id=\"T_a7293bac_2ac8_11e9_97a7_8c8590586881row10_col1\" class=\"data row10 col1\" >0.00947435</td> \n",
       "    </tr>    <tr> \n",
       "        <th id=\"T_a7293bac_2ac8_11e9_97a7_8c8590586881level0_row11\" class=\"row_heading level0 row11\" >24</th> \n",
       "        <td id=\"T_a7293bac_2ac8_11e9_97a7_8c8590586881row11_col0\" class=\"data row11 col0\" >Fireplaces</td> \n",
       "        <td id=\"T_a7293bac_2ac8_11e9_97a7_8c8590586881row11_col1\" class=\"data row11 col1\" >0.00677136</td> \n",
       "    </tr>    <tr> \n",
       "        <th id=\"T_a7293bac_2ac8_11e9_97a7_8c8590586881level0_row12\" class=\"row_heading level0 row12\" >23</th> \n",
       "        <td id=\"T_a7293bac_2ac8_11e9_97a7_8c8590586881row12_col0\" class=\"data row12 col0\" >TotRmsAbvGrd</td> \n",
       "        <td id=\"T_a7293bac_2ac8_11e9_97a7_8c8590586881row12_col1\" class=\"data row12 col1\" >0.00639356</td> \n",
       "    </tr>    <tr> \n",
       "        <th id=\"T_a7293bac_2ac8_11e9_97a7_8c8590586881level0_row13\" class=\"row_heading level0 row13\" >7</th> \n",
       "        <td id=\"T_a7293bac_2ac8_11e9_97a7_8c8590586881row13_col0\" class=\"data row13 col0\" >YearRemodAdd</td> \n",
       "        <td id=\"T_a7293bac_2ac8_11e9_97a7_8c8590586881row13_col1\" class=\"data row13 col1\" >0.00477536</td> \n",
       "    </tr>    <tr> \n",
       "        <th id=\"T_a7293bac_2ac8_11e9_97a7_8c8590586881level0_row14\" class=\"row_heading level0 row14\" >8</th> \n",
       "        <td id=\"T_a7293bac_2ac8_11e9_97a7_8c8590586881row14_col0\" class=\"data row14 col0\" >MasVnrArea</td> \n",
       "        <td id=\"T_a7293bac_2ac8_11e9_97a7_8c8590586881row14_col1\" class=\"data row14 col1\" >0.00389897</td> \n",
       "    </tr>    <tr> \n",
       "        <th id=\"T_a7293bac_2ac8_11e9_97a7_8c8590586881level0_row15\" class=\"row_heading level0 row15\" >25</th> \n",
       "        <td id=\"T_a7293bac_2ac8_11e9_97a7_8c8590586881row15_col0\" class=\"data row15 col0\" >GarageYrBlt</td> \n",
       "        <td id=\"T_a7293bac_2ac8_11e9_97a7_8c8590586881row15_col1\" class=\"data row15 col1\" >0.00324904</td> \n",
       "    </tr>    <tr> \n",
       "        <th id=\"T_a7293bac_2ac8_11e9_97a7_8c8590586881level0_row16\" class=\"row_heading level0 row16\" >2</th> \n",
       "        <td id=\"T_a7293bac_2ac8_11e9_97a7_8c8590586881row16_col0\" class=\"data row16 col0\" >LotFrontage</td> \n",
       "        <td id=\"T_a7293bac_2ac8_11e9_97a7_8c8590586881row16_col1\" class=\"data row16 col1\" >0.0017819</td> \n",
       "    </tr>    <tr> \n",
       "        <th id=\"T_a7293bac_2ac8_11e9_97a7_8c8590586881level0_row17\" class=\"row_heading level0 row17\" >17</th> \n",
       "        <td id=\"T_a7293bac_2ac8_11e9_97a7_8c8590586881row17_col0\" class=\"data row17 col0\" >BsmtFullBath</td> \n",
       "        <td id=\"T_a7293bac_2ac8_11e9_97a7_8c8590586881row17_col1\" class=\"data row17 col1\" >0.00169912</td> \n",
       "    </tr>    <tr> \n",
       "        <th id=\"T_a7293bac_2ac8_11e9_97a7_8c8590586881level0_row18\" class=\"row_heading level0 row18\" >11</th> \n",
       "        <td id=\"T_a7293bac_2ac8_11e9_97a7_8c8590586881row18_col0\" class=\"data row18 col0\" >BsmtUnfSF</td> \n",
       "        <td id=\"T_a7293bac_2ac8_11e9_97a7_8c8590586881row18_col1\" class=\"data row18 col1\" >0.00143915</td> \n",
       "    </tr>    <tr> \n",
       "        <th id=\"T_a7293bac_2ac8_11e9_97a7_8c8590586881level0_row19\" class=\"row_heading level0 row19\" >21</th> \n",
       "        <td id=\"T_a7293bac_2ac8_11e9_97a7_8c8590586881row19_col0\" class=\"data row19 col0\" >BedroomAbvGr</td> \n",
       "        <td id=\"T_a7293bac_2ac8_11e9_97a7_8c8590586881row19_col1\" class=\"data row19 col1\" >0.00111948</td> \n",
       "    </tr>    <tr> \n",
       "        <th id=\"T_a7293bac_2ac8_11e9_97a7_8c8590586881level0_row20\" class=\"row_heading level0 row20\" >1</th> \n",
       "        <td id=\"T_a7293bac_2ac8_11e9_97a7_8c8590586881row20_col0\" class=\"data row20 col0\" >MSSubClass</td> \n",
       "        <td id=\"T_a7293bac_2ac8_11e9_97a7_8c8590586881row20_col1\" class=\"data row20 col1\" >0.00102244</td> \n",
       "    </tr>    <tr> \n",
       "        <th id=\"T_a7293bac_2ac8_11e9_97a7_8c8590586881level0_row21\" class=\"row_heading level0 row21\" >20</th> \n",
       "        <td id=\"T_a7293bac_2ac8_11e9_97a7_8c8590586881row21_col0\" class=\"data row21 col0\" >HalfBath</td> \n",
       "        <td id=\"T_a7293bac_2ac8_11e9_97a7_8c8590586881row21_col1\" class=\"data row21 col1\" >0.000969842</td> \n",
       "    </tr>    <tr> \n",
       "        <th id=\"T_a7293bac_2ac8_11e9_97a7_8c8590586881level0_row22\" class=\"row_heading level0 row22\" >0</th> \n",
       "        <td id=\"T_a7293bac_2ac8_11e9_97a7_8c8590586881row22_col0\" class=\"data row22 col0\" >Id</td> \n",
       "        <td id=\"T_a7293bac_2ac8_11e9_97a7_8c8590586881row22_col1\" class=\"data row22 col1\" >0.000781135</td> \n",
       "    </tr>    <tr> \n",
       "        <th id=\"T_a7293bac_2ac8_11e9_97a7_8c8590586881level0_row23\" class=\"row_heading level0 row23\" >5</th> \n",
       "        <td id=\"T_a7293bac_2ac8_11e9_97a7_8c8590586881row23_col0\" class=\"data row23 col0\" >OverallCond</td> \n",
       "        <td id=\"T_a7293bac_2ac8_11e9_97a7_8c8590586881row23_col1\" class=\"data row23 col1\" >0.000671415</td> \n",
       "    </tr>    <tr> \n",
       "        <th id=\"T_a7293bac_2ac8_11e9_97a7_8c8590586881level0_row24\" class=\"row_heading level0 row24\" >22</th> \n",
       "        <td id=\"T_a7293bac_2ac8_11e9_97a7_8c8590586881row24_col0\" class=\"data row24 col0\" >KitchenAbvGr</td> \n",
       "        <td id=\"T_a7293bac_2ac8_11e9_97a7_8c8590586881row24_col1\" class=\"data row24 col1\" >0.000288236</td> \n",
       "    </tr></tbody> \n",
       "</table> "
      ],
      "text/plain": [
       "<pandas.io.formats.style.Styler at 0x1a221c4748>"
      ]
     },
     "execution_count": 54,
     "metadata": {},
     "output_type": "execute_result"
    }
   ],
   "source": [
    "#Важность признаков для модели\n",
    "Columns = pd.DataFrame(X.columns, columns=['column'])\n",
    "Columns['importance'] = pd.Series(model_forest.feature_importances_)\n",
    "#Выбираем только значимые признаки для модели и сортируем их в порядке значимости\n",
    "Columns[(Columns['importance']>0)].head(25).sort_values('importance', ascending=False).style.bar()"
   ]
  },
  {
   "cell_type": "code",
   "execution_count": 55,
   "metadata": {},
   "outputs": [
    {
     "data": {
      "text/plain": [
       "array(['MSSubClass', 'LotFrontage', 'LotArea', 'OverallQual', 'YearBuilt',\n",
       "       'YearRemodAdd', 'MasVnrArea', 'BsmtFinSF1', 'BsmtUnfSF',\n",
       "       'TotalBsmtSF', '1stFlrSF', '2ndFlrSF', 'GrLivArea', 'BsmtFullBath',\n",
       "       'FullBath', 'BedroomAbvGr', 'TotRmsAbvGrd', 'Fireplaces',\n",
       "       'GarageYrBlt', 'GarageCars', 'GarageArea', 'WoodDeckSF',\n",
       "       'OpenPorchSF', 'KitchenQual_Gd', 'BsmtQual_Ex', 'CentralAir_N',\n",
       "       'FireplaceQu_nan', 'ExterQual_Gd', 'KitchenQual_TA',\n",
       "       'KitchenQual_Ex', 'GarageType_Attchd', 'ExterQual_TA',\n",
       "       'CentralAir_Y', 'ExterQual_Ex'], dtype=object)"
      ]
     },
     "execution_count": 55,
     "metadata": {},
     "output_type": "execute_result"
    }
   ],
   "source": [
    "# Выберем только наиболее значимые признаки, для которых коэффициенты >0.00\n",
    "columns = Columns[(Columns['importance']>0.001)].column.unique()\n",
    "columns"
   ]
  },
  {
   "cell_type": "markdown",
   "metadata": {},
   "source": [
    "###### Создадим новые обучающие выборки для стэкинга моделей"
   ]
  },
  {
   "cell_type": "code",
   "execution_count": 56,
   "metadata": {},
   "outputs": [],
   "source": [
    "X = train.loc[:, columns]\n",
    "y = train_data['SalePrice']"
   ]
  },
  {
   "cell_type": "code",
   "execution_count": 57,
   "metadata": {},
   "outputs": [],
   "source": [
    "X_kaggle_test = test.loc[:, columns]"
   ]
  },
  {
   "cell_type": "code",
   "execution_count": 58,
   "metadata": {},
   "outputs": [],
   "source": [
    "X_train, X_test, y_train, y_test = train_test_split(X, y, test_size=0.10, random_state=42)"
   ]
  },
  {
   "cell_type": "markdown",
   "metadata": {},
   "source": [
    "## 3. Стекинг из трех моделей"
   ]
  },
  {
   "cell_type": "markdown",
   "metadata": {},
   "source": [
    "Обучить стекинг как минимум 3х моделей, использовать хотя бы 1 линейную модель и 1 нелинейную\n",
    "Для валидации модели 2-го уровня использовать отдельный hold-out датасет, как на занятии"
   ]
  },
  {
   "cell_type": "code",
   "execution_count": 59,
   "metadata": {},
   "outputs": [],
   "source": [
    "#Модели для получения мета-признаков\n",
    "# from sklearn.ensemble import RandomForestRegressor\n",
    "from sklearn.tree import DecisionTreeRegressor\n",
    "from sklearn.linear_model import LinearRegression\n",
    "from sklearn.svm import SVR\n",
    "\n",
    "#Инструмент для разбиения на фолды\n",
    "from sklearn.model_selection import StratifiedKFold"
   ]
  },
  {
   "cell_type": "code",
   "execution_count": 60,
   "metadata": {},
   "outputs": [],
   "source": [
    "# Три модели для стекинга\n",
    "stack_models = [ # Случайный лес\n",
    "                 DecisionTreeRegressor(),\n",
    "                 # Логистическая регрессия\n",
    "                 SVR(kernel='linear', gamma='scale'),\n",
    "                 # Линейная регрессия\n",
    "                 LinearRegression()\n",
    "                ]"
   ]
  },
  {
   "cell_type": "code",
   "execution_count": 61,
   "metadata": {},
   "outputs": [],
   "source": [
    "# Функция для получения мета-признаков\n",
    "def get_meta_features(clf, X_train, y_train, stack_cv):\n",
    "    meta_train = np.zeros_like(y_train, dtype=float)\n",
    "    meta_test = np.zeros_like(y_test, dtype=float)\n",
    "    scoring = []\n",
    "    \n",
    "    for i, (train_ind, test_ind) in enumerate(stack_cv.split(X_train, y_train)):\n",
    "        clf.fit(X_train.iloc[train_ind], y_train.iloc[train_ind])\n",
    "        meta_train[test_ind] = clf.predict(X_train.iloc[test_ind])\n",
    "        # meta_test += clf.predict(X_test)\n",
    "        scoring += [clf.score(X_train.iloc[test_ind], y_train.iloc[test_ind])]\n",
    "        \n",
    "    print('Scoring: {0}'.format(scoring))\n",
    "    \n",
    "    return meta_train #, meta_test / stack_cv.n_splits"
   ]
  },
  {
   "cell_type": "code",
   "execution_count": 62,
   "metadata": {},
   "outputs": [],
   "source": [
    "# Разбиваем на фолды\n",
    "stack_cv = StratifiedKFold(n_splits=4, random_state=123)"
   ]
  },
  {
   "cell_type": "code",
   "execution_count": 63,
   "metadata": {},
   "outputs": [
    {
     "name": "stdout",
     "output_type": "stream",
     "text": [
      "Обучение и создание признаков для модели DecisionTreeRegressor\n",
      "Scoring: [0.6876942021764868, 0.3667378966813518, 0.6012193461918031, 0.5050786220087387]\n",
      "Обучение и создание признаков для модели SVR\n"
     ]
    },
    {
     "name": "stderr",
     "output_type": "stream",
     "text": [
      "/Users/akirichenko/anaconda3/lib/python3.6/site-packages/sklearn/model_selection/_split.py:652: Warning: The least populated class in y has only 1 members, which is too few. The minimum number of members in any class cannot be less than n_splits=4.\n",
      "  % (min_groups, self.n_splits)), Warning)\n",
      "/Users/akirichenko/anaconda3/lib/python3.6/site-packages/sklearn/model_selection/_split.py:652: Warning: The least populated class in y has only 1 members, which is too few. The minimum number of members in any class cannot be less than n_splits=4.\n",
      "  % (min_groups, self.n_splits)), Warning)\n"
     ]
    },
    {
     "name": "stdout",
     "output_type": "stream",
     "text": [
      "Scoring: [0.68630778736434, 0.2692580663643327, 0.7692068957746431, 0.7278521940712271]\n",
      "Обучение и создание признаков для модели LinearRegression\n"
     ]
    },
    {
     "name": "stderr",
     "output_type": "stream",
     "text": [
      "/Users/akirichenko/anaconda3/lib/python3.6/site-packages/sklearn/model_selection/_split.py:652: Warning: The least populated class in y has only 1 members, which is too few. The minimum number of members in any class cannot be less than n_splits=4.\n",
      "  % (min_groups, self.n_splits)), Warning)\n"
     ]
    },
    {
     "name": "stdout",
     "output_type": "stream",
     "text": [
      "Scoring: [0.683074983173455, 0.4133316380711316, 0.7864628222173078, 0.791928076314945]\n"
     ]
    }
   ],
   "source": [
    "# Получаем метапризнаки для мета-модели\n",
    "meta_train = []\n",
    "meta_test = []\n",
    "col_names = []\n",
    "\n",
    "# Создание мета-признаков\n",
    "for i in stack_models:\n",
    "    print(\"Обучение и создание признаков для модели {0}\".format(i.__class__.__name__))\n",
    "    meta_train_new = get_meta_features(i, X_train, y_train, stack_cv) #, meta_test_new \n",
    "    meta_train.append(meta_train_new)\n",
    "    #meta_test.append(meta_test_new)\n",
    "    col_names.append(i.__class__.__name__)\n",
    "    "
   ]
  },
  {
   "cell_type": "code",
   "execution_count": 64,
   "metadata": {},
   "outputs": [],
   "source": [
    "# Собираем полученные мета-признаки, для обучения мета-модели\n",
    "X_meta_train = pd.DataFrame({col_names[i]: meta_train[i] for i in range(len(col_names))})"
   ]
  },
  {
   "cell_type": "markdown",
   "metadata": {},
   "source": [
    "## Обучаем главную модель и получаем результат"
   ]
  },
  {
   "cell_type": "code",
   "execution_count": 65,
   "metadata": {
    "scrolled": true
   },
   "outputs": [
    {
     "data": {
      "text/plain": [
       "RandomForestRegressor(bootstrap=True, criterion='mse', max_depth=5,\n",
       "           max_features=0.5, max_leaf_nodes=None,\n",
       "           min_impurity_decrease=0.0, min_impurity_split=None,\n",
       "           min_samples_leaf=10, min_samples_split=2,\n",
       "           min_weight_fraction_leaf=0.0, n_estimators=100, n_jobs=-1,\n",
       "           oob_score=False, random_state=None, verbose=0, warm_start=False)"
      ]
     },
     "execution_count": 65,
     "metadata": {},
     "output_type": "execute_result"
    }
   ],
   "source": [
    "# Обучаем главную мета-модель\n",
    "meta_model = RandomForestRegressor(n_estimators=100, max_depth=5, min_samples_leaf=10, max_features=0.5, n_jobs=-1)\n",
    "meta_model.fit(X_meta_train, y_train)"
   ]
  },
  {
   "cell_type": "code",
   "execution_count": 66,
   "metadata": {},
   "outputs": [
    {
     "name": "stdout",
     "output_type": "stream",
     "text": [
      "Оценка модели DecisionTreeRegressor : 0.8762461362588587\n",
      "Оценка модели SVR : 0.792329014982595\n",
      "Оценка модели LinearRegression : 0.8532257852181153\n"
     ]
    }
   ],
   "source": [
    "# Обучаем стекинговые модели на всей обучающей выборке и получаем мета-признаки для hold-out набора:\n",
    "meta_test = []\n",
    "for i in stack_models:\n",
    "    i.fit(X_train, y_train)\n",
    "    print('Оценка модели {0} : {1}'.format(i.__class__.__name__ , i.score(X_test, y_test)))\n",
    "    meta_test.append(i.predict(X_test))\n",
    "\n",
    "X_meta_test = pd.DataFrame({col_names[i]: meta_test[i] for i in range(len(col_names))})"
   ]
  },
  {
   "cell_type": "code",
   "execution_count": 67,
   "metadata": {},
   "outputs": [
    {
     "data": {
      "text/plain": [
       "0.7801491737032363"
      ]
     },
     "execution_count": 67,
     "metadata": {},
     "output_type": "execute_result"
    }
   ],
   "source": [
    "# Оцениваем мета-модель на отложенной hold_out-выборке\n",
    "meta_model.score(X_meta_test, y_test)"
   ]
  },
  {
   "cell_type": "code",
   "execution_count": 68,
   "metadata": {},
   "outputs": [],
   "source": [
    "predictions = meta_model.predict(X_meta_test)"
   ]
  },
  {
   "cell_type": "code",
   "execution_count": 69,
   "metadata": {},
   "outputs": [
    {
     "data": {
      "text/plain": [
       "0.026465833163378534"
      ]
     },
     "execution_count": 69,
     "metadata": {},
     "output_type": "execute_result"
    }
   ],
   "source": [
    "# Оценка качества модели исходя из метрики, обозначенной на Kaggle - Mean Squared Log Error\n",
    "mean_squared_log_error(y_test, predictions)"
   ]
  },
  {
   "cell_type": "code",
   "execution_count": 70,
   "metadata": {},
   "outputs": [],
   "source": [
    "# Сделаем оценку для тестовой выборки на Kaggle\n",
    "meta_kaggle_test = []\n",
    "for i in stack_models:\n",
    "    meta_kaggle_test.append(i.predict(X_kaggle_test))\n",
    "\n",
    "X_meta_kaggle_test = pd.DataFrame({col_names[i]: meta_kaggle_test[i] for i in range(len(col_names))})"
   ]
  },
  {
   "cell_type": "code",
   "execution_count": 71,
   "metadata": {},
   "outputs": [],
   "source": [
    "kaggle_predictions = meta_model.predict(X_meta_kaggle_test)\n",
    "# Записываем данные для отправки на Kaggle\n",
    "result = test.loc[:, ['Id']]\n",
    "result['SalePrice'] = kaggle_predictions\n",
    "result.to_csv('staking_results.csv', index=False)"
   ]
  },
  {
   "cell_type": "markdown",
   "metadata": {},
   "source": [
    "Загружаем результаты на Kaggle :\n",
    "\n",
    "<img src='kaggle_staking.png'>\n",
    "\n",
    "Результат улучшился."
   ]
  },
  {
   "cell_type": "code",
   "execution_count": null,
   "metadata": {},
   "outputs": [],
   "source": []
  },
  {
   "cell_type": "code",
   "execution_count": null,
   "metadata": {},
   "outputs": [],
   "source": []
  },
  {
   "cell_type": "code",
   "execution_count": null,
   "metadata": {},
   "outputs": [],
   "source": []
  },
  {
   "cell_type": "code",
   "execution_count": null,
   "metadata": {},
   "outputs": [],
   "source": []
  }
 ],
 "metadata": {
  "kernelspec": {
   "display_name": "Python 3",
   "language": "python",
   "name": "python3"
  },
  "language_info": {
   "codemirror_mode": {
    "name": "ipython",
    "version": 3
   },
   "file_extension": ".py",
   "mimetype": "text/x-python",
   "name": "python",
   "nbconvert_exporter": "python",
   "pygments_lexer": "ipython3",
   "version": "3.6.6"
  }
 },
 "nbformat": 4,
 "nbformat_minor": 2
}
