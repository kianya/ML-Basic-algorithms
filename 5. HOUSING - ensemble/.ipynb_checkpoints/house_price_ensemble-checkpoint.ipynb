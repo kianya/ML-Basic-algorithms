{
 "cells": [
  {
   "cell_type": "markdown",
   "metadata": {},
   "source": [
    "# Домашнее задание. Ансамблирование моделей"
   ]
  },
  {
   "cell_type": "markdown",
   "metadata": {},
   "source": [
    "- Теперь решаем задачу регрессии - предскажем цены на недвижимость. Использовать датасет https://www.kaggle.com/c/house-prices-advanced-regression-techniques/data (train.csv)\n",
    "- Данных немного, поэтому необходимо использовать 10-fold кросс-валидацию для оценки качества моделей\n",
    "- Построить случайный лес, вывести важность признаков\n",
    "- Обучить стекинг как минимум 3х моделей, использовать хотя бы 1 линейную модель и 1 нелинейную\n",
    "- Для валидации модели 2-го уровня использовать отдельный hold-out датасет, как на занятии\n",
    "- Показать, что использование ансамблей моделей действительно улучшает качество (стекинг vs другие модели сравнивать на hold-out)\n",
    "- В качестве решения: Jupyter notebook с кодом, комментариями и графиками, ссылка на гитхаб"
   ]
  },
  {
   "cell_type": "markdown",
   "metadata": {},
   "source": [
    "## 0. Библиотеки"
   ]
  },
  {
   "cell_type": "code",
   "execution_count": 71,
   "metadata": {},
   "outputs": [],
   "source": [
    "# Для работы с данными\n",
    "import pandas as pd\n",
    "import numpy as np\n",
    "\n",
    "#Для работы с моделями\n",
    "from sklearn.datasets import load_iris\n",
    "from sklearn.model_selection import train_test_split\n",
    "from sklearn.ensemble import RandomForestRegressor\n",
    "from sklearn import metrics\n",
    "\n",
    "#Для визуализации\n",
    "import matplotlib.pyplot as plt\n",
    "%matplotlib inline\n",
    "\n",
    "from jupyterthemes import jtplot\n",
    "jtplot.style()"
   ]
  },
  {
   "cell_type": "markdown",
   "metadata": {},
   "source": [
    "## 1. Загрузка данных"
   ]
  },
  {
   "cell_type": "code",
   "execution_count": 39,
   "metadata": {
    "scrolled": false
   },
   "outputs": [],
   "source": [
    "data = pd.read_csv('data/train.csv')"
   ]
  },
  {
   "cell_type": "code",
   "execution_count": 40,
   "metadata": {
    "scrolled": true
   },
   "outputs": [
    {
     "data": {
      "text/html": [
       "<div>\n",
       "<style scoped>\n",
       "    .dataframe tbody tr th:only-of-type {\n",
       "        vertical-align: middle;\n",
       "    }\n",
       "\n",
       "    .dataframe tbody tr th {\n",
       "        vertical-align: top;\n",
       "    }\n",
       "\n",
       "    .dataframe thead th {\n",
       "        text-align: right;\n",
       "    }\n",
       "</style>\n",
       "<table border=\"1\" class=\"dataframe\">\n",
       "  <thead>\n",
       "    <tr style=\"text-align: right;\">\n",
       "      <th></th>\n",
       "      <th>Id</th>\n",
       "      <th>MSSubClass</th>\n",
       "      <th>MSZoning</th>\n",
       "      <th>LotFrontage</th>\n",
       "      <th>LotArea</th>\n",
       "      <th>Street</th>\n",
       "      <th>Alley</th>\n",
       "      <th>LotShape</th>\n",
       "      <th>LandContour</th>\n",
       "      <th>Utilities</th>\n",
       "      <th>...</th>\n",
       "      <th>PoolArea</th>\n",
       "      <th>PoolQC</th>\n",
       "      <th>Fence</th>\n",
       "      <th>MiscFeature</th>\n",
       "      <th>MiscVal</th>\n",
       "      <th>MoSold</th>\n",
       "      <th>YrSold</th>\n",
       "      <th>SaleType</th>\n",
       "      <th>SaleCondition</th>\n",
       "      <th>SalePrice</th>\n",
       "    </tr>\n",
       "  </thead>\n",
       "  <tbody>\n",
       "    <tr>\n",
       "      <th>0</th>\n",
       "      <td>1</td>\n",
       "      <td>60</td>\n",
       "      <td>RL</td>\n",
       "      <td>65.0</td>\n",
       "      <td>8450</td>\n",
       "      <td>Pave</td>\n",
       "      <td>NaN</td>\n",
       "      <td>Reg</td>\n",
       "      <td>Lvl</td>\n",
       "      <td>AllPub</td>\n",
       "      <td>...</td>\n",
       "      <td>0</td>\n",
       "      <td>NaN</td>\n",
       "      <td>NaN</td>\n",
       "      <td>NaN</td>\n",
       "      <td>0</td>\n",
       "      <td>2</td>\n",
       "      <td>2008</td>\n",
       "      <td>WD</td>\n",
       "      <td>Normal</td>\n",
       "      <td>208500</td>\n",
       "    </tr>\n",
       "    <tr>\n",
       "      <th>1</th>\n",
       "      <td>2</td>\n",
       "      <td>20</td>\n",
       "      <td>RL</td>\n",
       "      <td>80.0</td>\n",
       "      <td>9600</td>\n",
       "      <td>Pave</td>\n",
       "      <td>NaN</td>\n",
       "      <td>Reg</td>\n",
       "      <td>Lvl</td>\n",
       "      <td>AllPub</td>\n",
       "      <td>...</td>\n",
       "      <td>0</td>\n",
       "      <td>NaN</td>\n",
       "      <td>NaN</td>\n",
       "      <td>NaN</td>\n",
       "      <td>0</td>\n",
       "      <td>5</td>\n",
       "      <td>2007</td>\n",
       "      <td>WD</td>\n",
       "      <td>Normal</td>\n",
       "      <td>181500</td>\n",
       "    </tr>\n",
       "    <tr>\n",
       "      <th>2</th>\n",
       "      <td>3</td>\n",
       "      <td>60</td>\n",
       "      <td>RL</td>\n",
       "      <td>68.0</td>\n",
       "      <td>11250</td>\n",
       "      <td>Pave</td>\n",
       "      <td>NaN</td>\n",
       "      <td>IR1</td>\n",
       "      <td>Lvl</td>\n",
       "      <td>AllPub</td>\n",
       "      <td>...</td>\n",
       "      <td>0</td>\n",
       "      <td>NaN</td>\n",
       "      <td>NaN</td>\n",
       "      <td>NaN</td>\n",
       "      <td>0</td>\n",
       "      <td>9</td>\n",
       "      <td>2008</td>\n",
       "      <td>WD</td>\n",
       "      <td>Normal</td>\n",
       "      <td>223500</td>\n",
       "    </tr>\n",
       "    <tr>\n",
       "      <th>3</th>\n",
       "      <td>4</td>\n",
       "      <td>70</td>\n",
       "      <td>RL</td>\n",
       "      <td>60.0</td>\n",
       "      <td>9550</td>\n",
       "      <td>Pave</td>\n",
       "      <td>NaN</td>\n",
       "      <td>IR1</td>\n",
       "      <td>Lvl</td>\n",
       "      <td>AllPub</td>\n",
       "      <td>...</td>\n",
       "      <td>0</td>\n",
       "      <td>NaN</td>\n",
       "      <td>NaN</td>\n",
       "      <td>NaN</td>\n",
       "      <td>0</td>\n",
       "      <td>2</td>\n",
       "      <td>2006</td>\n",
       "      <td>WD</td>\n",
       "      <td>Abnorml</td>\n",
       "      <td>140000</td>\n",
       "    </tr>\n",
       "    <tr>\n",
       "      <th>4</th>\n",
       "      <td>5</td>\n",
       "      <td>60</td>\n",
       "      <td>RL</td>\n",
       "      <td>84.0</td>\n",
       "      <td>14260</td>\n",
       "      <td>Pave</td>\n",
       "      <td>NaN</td>\n",
       "      <td>IR1</td>\n",
       "      <td>Lvl</td>\n",
       "      <td>AllPub</td>\n",
       "      <td>...</td>\n",
       "      <td>0</td>\n",
       "      <td>NaN</td>\n",
       "      <td>NaN</td>\n",
       "      <td>NaN</td>\n",
       "      <td>0</td>\n",
       "      <td>12</td>\n",
       "      <td>2008</td>\n",
       "      <td>WD</td>\n",
       "      <td>Normal</td>\n",
       "      <td>250000</td>\n",
       "    </tr>\n",
       "  </tbody>\n",
       "</table>\n",
       "<p>5 rows × 81 columns</p>\n",
       "</div>"
      ],
      "text/plain": [
       "   Id  MSSubClass MSZoning  LotFrontage  LotArea Street Alley LotShape  \\\n",
       "0   1          60       RL         65.0     8450   Pave   NaN      Reg   \n",
       "1   2          20       RL         80.0     9600   Pave   NaN      Reg   \n",
       "2   3          60       RL         68.0    11250   Pave   NaN      IR1   \n",
       "3   4          70       RL         60.0     9550   Pave   NaN      IR1   \n",
       "4   5          60       RL         84.0    14260   Pave   NaN      IR1   \n",
       "\n",
       "  LandContour Utilities    ...     PoolArea PoolQC Fence MiscFeature MiscVal  \\\n",
       "0         Lvl    AllPub    ...            0    NaN   NaN         NaN       0   \n",
       "1         Lvl    AllPub    ...            0    NaN   NaN         NaN       0   \n",
       "2         Lvl    AllPub    ...            0    NaN   NaN         NaN       0   \n",
       "3         Lvl    AllPub    ...            0    NaN   NaN         NaN       0   \n",
       "4         Lvl    AllPub    ...            0    NaN   NaN         NaN       0   \n",
       "\n",
       "  MoSold YrSold  SaleType  SaleCondition  SalePrice  \n",
       "0      2   2008        WD         Normal     208500  \n",
       "1      5   2007        WD         Normal     181500  \n",
       "2      9   2008        WD         Normal     223500  \n",
       "3      2   2006        WD        Abnorml     140000  \n",
       "4     12   2008        WD         Normal     250000  \n",
       "\n",
       "[5 rows x 81 columns]"
      ]
     },
     "execution_count": 40,
     "metadata": {},
     "output_type": "execute_result"
    }
   ],
   "source": [
    "# SalePrice - target value\n",
    "data.head()"
   ]
  },
  {
   "cell_type": "markdown",
   "metadata": {},
   "source": [
    "### 1.1 Замена пустых значений и работа с категориальными признаками"
   ]
  },
  {
   "cell_type": "code",
   "execution_count": 41,
   "metadata": {
    "scrolled": true
   },
   "outputs": [],
   "source": [
    "# Находим не категориальные признаки\n",
    "cat_feat = list(data.dtypes[data.dtypes == object].index)\n",
    "data[cat_feat] = data[cat_feat].fillna('nan')\n",
    "\n",
    "cat_nunique = data[cat_feat].nunique()\n",
    "\n",
    "cat_feat = list(cat_nunique[cat_nunique < 30].index)\n",
    "\n",
    "# Не категориальные признаки\n",
    "num_feat = [f for f in data if f not in (cat_feat + ['ID', 'target'])]"
   ]
  },
  {
   "cell_type": "code",
   "execution_count": 42,
   "metadata": {},
   "outputs": [],
   "source": [
    "# Создаем дамми-переменные для категорий\n",
    "dummy_data = pd.get_dummies(data[cat_feat], columns=cat_feat)\n",
    "\n",
    "dummy_cols = list(set(dummy_data))\n",
    "\n",
    "dummy_data = dummy_data[dummy_cols]\n",
    "\n",
    "train = pd.concat([data[num_feat].fillna(-999),\n",
    "                     dummy_data], axis=1)"
   ]
  },
  {
   "cell_type": "markdown",
   "metadata": {},
   "source": [
    "### 1.2 Обучающие и тестовые выборки"
   ]
  },
  {
   "cell_type": "code",
   "execution_count": 43,
   "metadata": {},
   "outputs": [],
   "source": [
    "X = train.loc[:, train.columns != 'SalePrice']\n",
    "y = train['SalePrice']"
   ]
  },
  {
   "cell_type": "markdown",
   "metadata": {},
   "source": [
    "## 2. Модель - Случайный лес. Анализ важности признаков"
   ]
  },
  {
   "cell_type": "code",
   "execution_count": 44,
   "metadata": {},
   "outputs": [],
   "source": [
    "reg_rf = RandomForestRegressor(n_estimators=10, max_depth=5, min_samples_leaf=20, max_features=0.5, n_jobs=-1)"
   ]
  },
  {
   "cell_type": "code",
   "execution_count": 45,
   "metadata": {
    "scrolled": false
   },
   "outputs": [
    {
     "data": {
      "text/plain": [
       "0.813778553994197"
      ]
     },
     "execution_count": 45,
     "metadata": {},
     "output_type": "execute_result"
    }
   ],
   "source": [
    "from sklearn.model_selection import cross_val_score\n",
    "score = cross_val_score(reg_rf, X, y, cv=10)\n",
    "#оценка модели с помощью кросс-валидации на 10-fold\n",
    "score.mean()"
   ]
  },
  {
   "cell_type": "code",
   "execution_count": 46,
   "metadata": {},
   "outputs": [
    {
     "data": {
      "text/plain": [
       "RandomForestRegressor(bootstrap=True, criterion='mse', max_depth=5,\n",
       "           max_features=0.5, max_leaf_nodes=None,\n",
       "           min_impurity_decrease=0.0, min_impurity_split=None,\n",
       "           min_samples_leaf=20, min_samples_split=2,\n",
       "           min_weight_fraction_leaf=0.0, n_estimators=10, n_jobs=-1,\n",
       "           oob_score=False, random_state=None, verbose=0, warm_start=False)"
      ]
     },
     "execution_count": 46,
     "metadata": {},
     "output_type": "execute_result"
    }
   ],
   "source": [
    "#Зафитить модель\n",
    "reg_rf.fit(X,y)"
   ]
  },
  {
   "cell_type": "code",
   "execution_count": 47,
   "metadata": {
    "scrolled": true
   },
   "outputs": [
    {
     "data": {
      "text/html": [
       "<style  type=\"text/css\" >\n",
       "    #T_eebee0b8_fa60_11e8_a8cc_f200c530f001row0_col1 {\n",
       "            width:  10em;\n",
       "             height:  80%;\n",
       "            background:  linear-gradient(90deg,#d65f5f 100.0%, transparent 0%);\n",
       "        }    #T_eebee0b8_fa60_11e8_a8cc_f200c530f001row1_col1 {\n",
       "            width:  10em;\n",
       "             height:  80%;\n",
       "            background:  linear-gradient(90deg,#d65f5f 58.4%, transparent 0%);\n",
       "        }    #T_eebee0b8_fa60_11e8_a8cc_f200c530f001row2_col1 {\n",
       "            width:  10em;\n",
       "             height:  80%;\n",
       "            background:  linear-gradient(90deg,#d65f5f 37.4%, transparent 0%);\n",
       "        }    #T_eebee0b8_fa60_11e8_a8cc_f200c530f001row3_col1 {\n",
       "            width:  10em;\n",
       "             height:  80%;\n",
       "            background:  linear-gradient(90deg,#d65f5f 27.1%, transparent 0%);\n",
       "        }    #T_eebee0b8_fa60_11e8_a8cc_f200c530f001row4_col1 {\n",
       "            width:  10em;\n",
       "             height:  80%;\n",
       "            background:  linear-gradient(90deg,#d65f5f 20.9%, transparent 0%);\n",
       "        }    #T_eebee0b8_fa60_11e8_a8cc_f200c530f001row5_col1 {\n",
       "            width:  10em;\n",
       "             height:  80%;\n",
       "            background:  linear-gradient(90deg,#d65f5f 13.8%, transparent 0%);\n",
       "        }    #T_eebee0b8_fa60_11e8_a8cc_f200c530f001row6_col1 {\n",
       "            width:  10em;\n",
       "             height:  80%;\n",
       "            background:  linear-gradient(90deg,#d65f5f 11.2%, transparent 0%);\n",
       "        }    #T_eebee0b8_fa60_11e8_a8cc_f200c530f001row7_col1 {\n",
       "            width:  10em;\n",
       "             height:  80%;\n",
       "            background:  linear-gradient(90deg,#d65f5f 11.1%, transparent 0%);\n",
       "        }    #T_eebee0b8_fa60_11e8_a8cc_f200c530f001row8_col1 {\n",
       "            width:  10em;\n",
       "             height:  80%;\n",
       "            background:  linear-gradient(90deg,#d65f5f 7.5%, transparent 0%);\n",
       "        }    #T_eebee0b8_fa60_11e8_a8cc_f200c530f001row9_col1 {\n",
       "            width:  10em;\n",
       "             height:  80%;\n",
       "            background:  linear-gradient(90deg,#d65f5f 4.1%, transparent 0%);\n",
       "        }    #T_eebee0b8_fa60_11e8_a8cc_f200c530f001row10_col1 {\n",
       "            width:  10em;\n",
       "             height:  80%;\n",
       "            background:  linear-gradient(90deg,#d65f5f 3.7%, transparent 0%);\n",
       "        }    #T_eebee0b8_fa60_11e8_a8cc_f200c530f001row11_col1 {\n",
       "            width:  10em;\n",
       "             height:  80%;\n",
       "            background:  linear-gradient(90deg,#d65f5f 3.3%, transparent 0%);\n",
       "        }    #T_eebee0b8_fa60_11e8_a8cc_f200c530f001row12_col1 {\n",
       "            width:  10em;\n",
       "             height:  80%;\n",
       "            background:  linear-gradient(90deg,#d65f5f 3.1%, transparent 0%);\n",
       "        }    #T_eebee0b8_fa60_11e8_a8cc_f200c530f001row13_col1 {\n",
       "            width:  10em;\n",
       "             height:  80%;\n",
       "            background:  linear-gradient(90deg,#d65f5f 2.1%, transparent 0%);\n",
       "        }    #T_eebee0b8_fa60_11e8_a8cc_f200c530f001row14_col1 {\n",
       "            width:  10em;\n",
       "             height:  80%;\n",
       "            background:  linear-gradient(90deg,#d65f5f 1.9%, transparent 0%);\n",
       "        }    #T_eebee0b8_fa60_11e8_a8cc_f200c530f001row15_col1 {\n",
       "            width:  10em;\n",
       "             height:  80%;\n",
       "            background:  linear-gradient(90deg,#d65f5f 1.3%, transparent 0%);\n",
       "        }    #T_eebee0b8_fa60_11e8_a8cc_f200c530f001row16_col1 {\n",
       "            width:  10em;\n",
       "             height:  80%;\n",
       "            background:  linear-gradient(90deg,#d65f5f 1.2%, transparent 0%);\n",
       "        }    #T_eebee0b8_fa60_11e8_a8cc_f200c530f001row17_col1 {\n",
       "            width:  10em;\n",
       "             height:  80%;\n",
       "            background:  linear-gradient(90deg,#d65f5f 1.2%, transparent 0%);\n",
       "        }    #T_eebee0b8_fa60_11e8_a8cc_f200c530f001row18_col1 {\n",
       "            width:  10em;\n",
       "             height:  80%;\n",
       "            background:  linear-gradient(90deg,#d65f5f 1.0%, transparent 0%);\n",
       "        }    #T_eebee0b8_fa60_11e8_a8cc_f200c530f001row19_col1 {\n",
       "            width:  10em;\n",
       "             height:  80%;\n",
       "            background:  linear-gradient(90deg,#d65f5f 0.8%, transparent 0%);\n",
       "        }    #T_eebee0b8_fa60_11e8_a8cc_f200c530f001row20_col1 {\n",
       "            width:  10em;\n",
       "             height:  80%;\n",
       "            background:  linear-gradient(90deg,#d65f5f 0.5%, transparent 0%);\n",
       "        }    #T_eebee0b8_fa60_11e8_a8cc_f200c530f001row21_col1 {\n",
       "            width:  10em;\n",
       "             height:  80%;\n",
       "            background:  linear-gradient(90deg,#d65f5f 0.5%, transparent 0%);\n",
       "        }    #T_eebee0b8_fa60_11e8_a8cc_f200c530f001row22_col1 {\n",
       "            width:  10em;\n",
       "             height:  80%;\n",
       "            background:  linear-gradient(90deg,#d65f5f 0.4%, transparent 0%);\n",
       "        }    #T_eebee0b8_fa60_11e8_a8cc_f200c530f001row23_col1 {\n",
       "            width:  10em;\n",
       "             height:  80%;\n",
       "            background:  linear-gradient(90deg,#d65f5f 0.4%, transparent 0%);\n",
       "        }    #T_eebee0b8_fa60_11e8_a8cc_f200c530f001row24_col1 {\n",
       "            width:  10em;\n",
       "             height:  80%;\n",
       "            background:  linear-gradient(90deg,#d65f5f 0.4%, transparent 0%);\n",
       "        }    #T_eebee0b8_fa60_11e8_a8cc_f200c530f001row25_col1 {\n",
       "            width:  10em;\n",
       "             height:  80%;\n",
       "            background:  linear-gradient(90deg,#d65f5f 0.3%, transparent 0%);\n",
       "        }    #T_eebee0b8_fa60_11e8_a8cc_f200c530f001row26_col1 {\n",
       "            width:  10em;\n",
       "             height:  80%;\n",
       "            background:  linear-gradient(90deg,#d65f5f 0.3%, transparent 0%);\n",
       "        }    #T_eebee0b8_fa60_11e8_a8cc_f200c530f001row27_col1 {\n",
       "            width:  10em;\n",
       "             height:  80%;\n",
       "            background:  linear-gradient(90deg,#d65f5f 0.3%, transparent 0%);\n",
       "        }    #T_eebee0b8_fa60_11e8_a8cc_f200c530f001row28_col1 {\n",
       "            width:  10em;\n",
       "             height:  80%;\n",
       "            background:  linear-gradient(90deg,#d65f5f 0.3%, transparent 0%);\n",
       "        }    #T_eebee0b8_fa60_11e8_a8cc_f200c530f001row29_col1 {\n",
       "            width:  10em;\n",
       "             height:  80%;\n",
       "            background:  linear-gradient(90deg,#d65f5f 0.2%, transparent 0%);\n",
       "        }    #T_eebee0b8_fa60_11e8_a8cc_f200c530f001row30_col1 {\n",
       "            width:  10em;\n",
       "             height:  80%;\n",
       "            background:  linear-gradient(90deg,#d65f5f 0.2%, transparent 0%);\n",
       "        }    #T_eebee0b8_fa60_11e8_a8cc_f200c530f001row31_col1 {\n",
       "            width:  10em;\n",
       "             height:  80%;\n",
       "            background:  linear-gradient(90deg,#d65f5f 0.2%, transparent 0%);\n",
       "        }    #T_eebee0b8_fa60_11e8_a8cc_f200c530f001row32_col1 {\n",
       "            width:  10em;\n",
       "             height:  80%;\n",
       "            background:  linear-gradient(90deg,#d65f5f 0.1%, transparent 0%);\n",
       "        }    #T_eebee0b8_fa60_11e8_a8cc_f200c530f001row33_col1 {\n",
       "            width:  10em;\n",
       "             height:  80%;\n",
       "            background:  linear-gradient(90deg,#d65f5f 0.1%, transparent 0%);\n",
       "        }    #T_eebee0b8_fa60_11e8_a8cc_f200c530f001row34_col1 {\n",
       "            width:  10em;\n",
       "             height:  80%;\n",
       "            background:  linear-gradient(90deg,#d65f5f 0.0%, transparent 0%);\n",
       "        }    #T_eebee0b8_fa60_11e8_a8cc_f200c530f001row35_col1 {\n",
       "            width:  10em;\n",
       "             height:  80%;\n",
       "            background:  linear-gradient(90deg,#d65f5f 0.0%, transparent 0%);\n",
       "        }    #T_eebee0b8_fa60_11e8_a8cc_f200c530f001row36_col1 {\n",
       "            width:  10em;\n",
       "             height:  80%;\n",
       "            background:  linear-gradient(90deg,#d65f5f 0.0%, transparent 0%);\n",
       "        }    #T_eebee0b8_fa60_11e8_a8cc_f200c530f001row37_col1 {\n",
       "            width:  10em;\n",
       "             height:  80%;\n",
       "            background:  linear-gradient(90deg,#d65f5f 0.0%, transparent 0%);\n",
       "        }    #T_eebee0b8_fa60_11e8_a8cc_f200c530f001row38_col1 {\n",
       "            width:  10em;\n",
       "             height:  80%;\n",
       "            background:  linear-gradient(90deg,#d65f5f 0.0%, transparent 0%);\n",
       "        }    #T_eebee0b8_fa60_11e8_a8cc_f200c530f001row39_col1 {\n",
       "            width:  10em;\n",
       "             height:  80%;\n",
       "            background:  linear-gradient(90deg,#d65f5f 0.0%, transparent 0%);\n",
       "        }    #T_eebee0b8_fa60_11e8_a8cc_f200c530f001row40_col1 {\n",
       "            width:  10em;\n",
       "             height:  80%;\n",
       "        }</style>  \n",
       "<table id=\"T_eebee0b8_fa60_11e8_a8cc_f200c530f001\" > \n",
       "<thead>    <tr> \n",
       "        <th class=\"blank level0\" ></th> \n",
       "        <th class=\"col_heading level0 col0\" >column</th> \n",
       "        <th class=\"col_heading level0 col1\" >importance</th> \n",
       "    </tr></thead> \n",
       "<tbody>    <tr> \n",
       "        <th id=\"T_eebee0b8_fa60_11e8_a8cc_f200c530f001level0_row0\" class=\"row_heading level0 row0\" >4</th> \n",
       "        <td id=\"T_eebee0b8_fa60_11e8_a8cc_f200c530f001row0_col0\" class=\"data row0 col0\" >OverallQual</td> \n",
       "        <td id=\"T_eebee0b8_fa60_11e8_a8cc_f200c530f001row0_col1\" class=\"data row0 col1\" >0.315917</td> \n",
       "    </tr>    <tr> \n",
       "        <th id=\"T_eebee0b8_fa60_11e8_a8cc_f200c530f001level0_row1\" class=\"row_heading level0 row1\" >214</th> \n",
       "        <td id=\"T_eebee0b8_fa60_11e8_a8cc_f200c530f001row1_col0\" class=\"data row1 col0\" >ExterQual_TA</td> \n",
       "        <td id=\"T_eebee0b8_fa60_11e8_a8cc_f200c530f001row1_col1\" class=\"data row1 col1\" >0.184464</td> \n",
       "    </tr>    <tr> \n",
       "        <th id=\"T_eebee0b8_fa60_11e8_a8cc_f200c530f001level0_row2\" class=\"row_heading level0 row2\" >16</th> \n",
       "        <td id=\"T_eebee0b8_fa60_11e8_a8cc_f200c530f001row2_col0\" class=\"data row2 col0\" >GrLivArea</td> \n",
       "        <td id=\"T_eebee0b8_fa60_11e8_a8cc_f200c530f001row2_col1\" class=\"data row2 col1\" >0.118233</td> \n",
       "    </tr>    <tr> \n",
       "        <th id=\"T_eebee0b8_fa60_11e8_a8cc_f200c530f001level0_row3\" class=\"row_heading level0 row3\" >6</th> \n",
       "        <td id=\"T_eebee0b8_fa60_11e8_a8cc_f200c530f001row3_col0\" class=\"data row3 col0\" >YearBuilt</td> \n",
       "        <td id=\"T_eebee0b8_fa60_11e8_a8cc_f200c530f001row3_col1\" class=\"data row3 col1\" >0.0856758</td> \n",
       "    </tr>    <tr> \n",
       "        <th id=\"T_eebee0b8_fa60_11e8_a8cc_f200c530f001level0_row4\" class=\"row_heading level0 row4\" >12</th> \n",
       "        <td id=\"T_eebee0b8_fa60_11e8_a8cc_f200c530f001row4_col0\" class=\"data row4 col0\" >TotalBsmtSF</td> \n",
       "        <td id=\"T_eebee0b8_fa60_11e8_a8cc_f200c530f001row4_col1\" class=\"data row4 col1\" >0.0660777</td> \n",
       "    </tr>    <tr> \n",
       "        <th id=\"T_eebee0b8_fa60_11e8_a8cc_f200c530f001level0_row5\" class=\"row_heading level0 row5\" >106</th> \n",
       "        <td id=\"T_eebee0b8_fa60_11e8_a8cc_f200c530f001row5_col0\" class=\"data row5 col0\" >BsmtQual_Ex</td> \n",
       "        <td id=\"T_eebee0b8_fa60_11e8_a8cc_f200c530f001row5_col1\" class=\"data row5 col1\" >0.0437851</td> \n",
       "    </tr>    <tr> \n",
       "        <th id=\"T_eebee0b8_fa60_11e8_a8cc_f200c530f001level0_row6\" class=\"row_heading level0 row6\" >3</th> \n",
       "        <td id=\"T_eebee0b8_fa60_11e8_a8cc_f200c530f001row6_col0\" class=\"data row6 col0\" >LotArea</td> \n",
       "        <td id=\"T_eebee0b8_fa60_11e8_a8cc_f200c530f001row6_col1\" class=\"data row6 col1\" >0.0354575</td> \n",
       "    </tr>    <tr> \n",
       "        <th id=\"T_eebee0b8_fa60_11e8_a8cc_f200c530f001level0_row7\" class=\"row_heading level0 row7\" >13</th> \n",
       "        <td id=\"T_eebee0b8_fa60_11e8_a8cc_f200c530f001row7_col0\" class=\"data row7 col0\" >1stFlrSF</td> \n",
       "        <td id=\"T_eebee0b8_fa60_11e8_a8cc_f200c530f001row7_col1\" class=\"data row7 col1\" >0.035187</td> \n",
       "    </tr>    <tr> \n",
       "        <th id=\"T_eebee0b8_fa60_11e8_a8cc_f200c530f001level0_row8\" class=\"row_heading level0 row8\" >41</th> \n",
       "        <td id=\"T_eebee0b8_fa60_11e8_a8cc_f200c530f001row8_col0\" class=\"data row8 col0\" >ExterQual_Gd</td> \n",
       "        <td id=\"T_eebee0b8_fa60_11e8_a8cc_f200c530f001row8_col1\" class=\"data row8 col1\" >0.0238649</td> \n",
       "    </tr>    <tr> \n",
       "        <th id=\"T_eebee0b8_fa60_11e8_a8cc_f200c530f001level0_row9\" class=\"row_heading level0 row9\" >9</th> \n",
       "        <td id=\"T_eebee0b8_fa60_11e8_a8cc_f200c530f001row9_col0\" class=\"data row9 col0\" >BsmtFinSF1</td> \n",
       "        <td id=\"T_eebee0b8_fa60_11e8_a8cc_f200c530f001row9_col1\" class=\"data row9 col1\" >0.012952</td> \n",
       "    </tr>    <tr> \n",
       "        <th id=\"T_eebee0b8_fa60_11e8_a8cc_f200c530f001level0_row10\" class=\"row_heading level0 row10\" >24</th> \n",
       "        <td id=\"T_eebee0b8_fa60_11e8_a8cc_f200c530f001row10_col0\" class=\"data row10 col0\" >Fireplaces</td> \n",
       "        <td id=\"T_eebee0b8_fa60_11e8_a8cc_f200c530f001row10_col1\" class=\"data row10 col1\" >0.0116551</td> \n",
       "    </tr>    <tr> \n",
       "        <th id=\"T_eebee0b8_fa60_11e8_a8cc_f200c530f001level0_row11\" class=\"row_heading level0 row11\" >26</th> \n",
       "        <td id=\"T_eebee0b8_fa60_11e8_a8cc_f200c530f001row11_col0\" class=\"data row11 col0\" >GarageCars</td> \n",
       "        <td id=\"T_eebee0b8_fa60_11e8_a8cc_f200c530f001row11_col1\" class=\"data row11 col1\" >0.0103925</td> \n",
       "    </tr>    <tr> \n",
       "        <th id=\"T_eebee0b8_fa60_11e8_a8cc_f200c530f001level0_row12\" class=\"row_heading level0 row12\" >23</th> \n",
       "        <td id=\"T_eebee0b8_fa60_11e8_a8cc_f200c530f001row12_col0\" class=\"data row12 col0\" >TotRmsAbvGrd</td> \n",
       "        <td id=\"T_eebee0b8_fa60_11e8_a8cc_f200c530f001row12_col1\" class=\"data row12 col1\" >0.0100092</td> \n",
       "    </tr>    <tr> \n",
       "        <th id=\"T_eebee0b8_fa60_11e8_a8cc_f200c530f001level0_row13\" class=\"row_heading level0 row13\" >14</th> \n",
       "        <td id=\"T_eebee0b8_fa60_11e8_a8cc_f200c530f001row13_col0\" class=\"data row13 col0\" >2ndFlrSF</td> \n",
       "        <td id=\"T_eebee0b8_fa60_11e8_a8cc_f200c530f001row13_col1\" class=\"data row13 col1\" >0.00677465</td> \n",
       "    </tr>    <tr> \n",
       "        <th id=\"T_eebee0b8_fa60_11e8_a8cc_f200c530f001level0_row14\" class=\"row_heading level0 row14\" >19</th> \n",
       "        <td id=\"T_eebee0b8_fa60_11e8_a8cc_f200c530f001row14_col0\" class=\"data row14 col0\" >FullBath</td> \n",
       "        <td id=\"T_eebee0b8_fa60_11e8_a8cc_f200c530f001row14_col1\" class=\"data row14 col1\" >0.00603704</td> \n",
       "    </tr>    <tr> \n",
       "        <th id=\"T_eebee0b8_fa60_11e8_a8cc_f200c530f001level0_row15\" class=\"row_heading level0 row15\" >217</th> \n",
       "        <td id=\"T_eebee0b8_fa60_11e8_a8cc_f200c530f001row15_col0\" class=\"data row15 col0\" >KitchenQual_Ex</td> \n",
       "        <td id=\"T_eebee0b8_fa60_11e8_a8cc_f200c530f001row15_col1\" class=\"data row15 col1\" >0.00427338</td> \n",
       "    </tr>    <tr> \n",
       "        <th id=\"T_eebee0b8_fa60_11e8_a8cc_f200c530f001level0_row16\" class=\"row_heading level0 row16\" >128</th> \n",
       "        <td id=\"T_eebee0b8_fa60_11e8_a8cc_f200c530f001row16_col0\" class=\"data row16 col0\" >GarageType_Attchd</td> \n",
       "        <td id=\"T_eebee0b8_fa60_11e8_a8cc_f200c530f001row16_col1\" class=\"data row16 col1\" >0.00398533</td> \n",
       "    </tr>    <tr> \n",
       "        <th id=\"T_eebee0b8_fa60_11e8_a8cc_f200c530f001level0_row17\" class=\"row_heading level0 row17\" >7</th> \n",
       "        <td id=\"T_eebee0b8_fa60_11e8_a8cc_f200c530f001row17_col0\" class=\"data row17 col0\" >YearRemodAdd</td> \n",
       "        <td id=\"T_eebee0b8_fa60_11e8_a8cc_f200c530f001row17_col1\" class=\"data row17 col1\" >0.00392101</td> \n",
       "    </tr>    <tr> \n",
       "        <th id=\"T_eebee0b8_fa60_11e8_a8cc_f200c530f001level0_row18\" class=\"row_heading level0 row18\" >8</th> \n",
       "        <td id=\"T_eebee0b8_fa60_11e8_a8cc_f200c530f001row18_col0\" class=\"data row18 col0\" >MasVnrArea</td> \n",
       "        <td id=\"T_eebee0b8_fa60_11e8_a8cc_f200c530f001row18_col1\" class=\"data row18 col1\" >0.003191</td> \n",
       "    </tr>    <tr> \n",
       "        <th id=\"T_eebee0b8_fa60_11e8_a8cc_f200c530f001level0_row19\" class=\"row_heading level0 row19\" >27</th> \n",
       "        <td id=\"T_eebee0b8_fa60_11e8_a8cc_f200c530f001row19_col0\" class=\"data row19 col0\" >GarageArea</td> \n",
       "        <td id=\"T_eebee0b8_fa60_11e8_a8cc_f200c530f001row19_col1\" class=\"data row19 col1\" >0.00254533</td> \n",
       "    </tr>    <tr> \n",
       "        <th id=\"T_eebee0b8_fa60_11e8_a8cc_f200c530f001level0_row20\" class=\"row_heading level0 row20\" >264</th> \n",
       "        <td id=\"T_eebee0b8_fa60_11e8_a8cc_f200c530f001row20_col0\" class=\"data row20 col0\" >GarageQual_TA</td> \n",
       "        <td id=\"T_eebee0b8_fa60_11e8_a8cc_f200c530f001row20_col1\" class=\"data row20 col1\" >0.00178341</td> \n",
       "    </tr>    <tr> \n",
       "        <th id=\"T_eebee0b8_fa60_11e8_a8cc_f200c530f001level0_row21\" class=\"row_heading level0 row21\" >25</th> \n",
       "        <td id=\"T_eebee0b8_fa60_11e8_a8cc_f200c530f001row21_col0\" class=\"data row21 col0\" >GarageYrBlt</td> \n",
       "        <td id=\"T_eebee0b8_fa60_11e8_a8cc_f200c530f001row21_col1\" class=\"data row21 col1\" >0.0015484</td> \n",
       "    </tr>    <tr> \n",
       "        <th id=\"T_eebee0b8_fa60_11e8_a8cc_f200c530f001level0_row22\" class=\"row_heading level0 row22\" >103</th> \n",
       "        <td id=\"T_eebee0b8_fa60_11e8_a8cc_f200c530f001row22_col0\" class=\"data row22 col0\" >MSZoning_RL</td> \n",
       "        <td id=\"T_eebee0b8_fa60_11e8_a8cc_f200c530f001row22_col1\" class=\"data row22 col1\" >0.00146108</td> \n",
       "    </tr>    <tr> \n",
       "        <th id=\"T_eebee0b8_fa60_11e8_a8cc_f200c530f001level0_row23\" class=\"row_heading level0 row23\" >303</th> \n",
       "        <td id=\"T_eebee0b8_fa60_11e8_a8cc_f200c530f001row23_col0\" class=\"data row23 col0\" >KitchenQual_TA</td> \n",
       "        <td id=\"T_eebee0b8_fa60_11e8_a8cc_f200c530f001row23_col1\" class=\"data row23 col1\" >0.00128602</td> \n",
       "    </tr>    <tr> \n",
       "        <th id=\"T_eebee0b8_fa60_11e8_a8cc_f200c530f001level0_row24\" class=\"row_heading level0 row24\" >108</th> \n",
       "        <td id=\"T_eebee0b8_fa60_11e8_a8cc_f200c530f001row24_col0\" class=\"data row24 col0\" >BsmtFinType1_GLQ</td> \n",
       "        <td id=\"T_eebee0b8_fa60_11e8_a8cc_f200c530f001row24_col1\" class=\"data row24 col1\" >0.00126021</td> \n",
       "    </tr>    <tr> \n",
       "        <th id=\"T_eebee0b8_fa60_11e8_a8cc_f200c530f001level0_row25\" class=\"row_heading level0 row25\" >121</th> \n",
       "        <td id=\"T_eebee0b8_fa60_11e8_a8cc_f200c530f001row25_col0\" class=\"data row25 col0\" >BsmtQual_Gd</td> \n",
       "        <td id=\"T_eebee0b8_fa60_11e8_a8cc_f200c530f001row25_col1\" class=\"data row25 col1\" >0.00113726</td> \n",
       "    </tr>    <tr> \n",
       "        <th id=\"T_eebee0b8_fa60_11e8_a8cc_f200c530f001level0_row26\" class=\"row_heading level0 row26\" >212</th> \n",
       "        <td id=\"T_eebee0b8_fa60_11e8_a8cc_f200c530f001row26_col0\" class=\"data row26 col0\" >CentralAir_Y</td> \n",
       "        <td id=\"T_eebee0b8_fa60_11e8_a8cc_f200c530f001row26_col1\" class=\"data row26 col1\" >0.00112719</td> \n",
       "    </tr>    <tr> \n",
       "        <th id=\"T_eebee0b8_fa60_11e8_a8cc_f200c530f001level0_row27\" class=\"row_heading level0 row27\" >180</th> \n",
       "        <td id=\"T_eebee0b8_fa60_11e8_a8cc_f200c530f001row27_col0\" class=\"data row27 col0\" >BldgType_1Fam</td> \n",
       "        <td id=\"T_eebee0b8_fa60_11e8_a8cc_f200c530f001row27_col1\" class=\"data row27 col1\" >0.000998716</td> \n",
       "    </tr>    <tr> \n",
       "        <th id=\"T_eebee0b8_fa60_11e8_a8cc_f200c530f001level0_row28\" class=\"row_heading level0 row28\" >17</th> \n",
       "        <td id=\"T_eebee0b8_fa60_11e8_a8cc_f200c530f001row28_col0\" class=\"data row28 col0\" >BsmtFullBath</td> \n",
       "        <td id=\"T_eebee0b8_fa60_11e8_a8cc_f200c530f001row28_col1\" class=\"data row28 col1\" >0.000928682</td> \n",
       "    </tr>    <tr> \n",
       "        <th id=\"T_eebee0b8_fa60_11e8_a8cc_f200c530f001level0_row29\" class=\"row_heading level0 row29\" >5</th> \n",
       "        <td id=\"T_eebee0b8_fa60_11e8_a8cc_f200c530f001row29_col0\" class=\"data row29 col0\" >OverallCond</td> \n",
       "        <td id=\"T_eebee0b8_fa60_11e8_a8cc_f200c530f001row29_col1\" class=\"data row29 col1\" >0.000844203</td> \n",
       "    </tr>    <tr> \n",
       "        <th id=\"T_eebee0b8_fa60_11e8_a8cc_f200c530f001level0_row30\" class=\"row_heading level0 row30\" >28</th> \n",
       "        <td id=\"T_eebee0b8_fa60_11e8_a8cc_f200c530f001row30_col0\" class=\"data row30 col0\" >WoodDeckSF</td> \n",
       "        <td id=\"T_eebee0b8_fa60_11e8_a8cc_f200c530f001row30_col1\" class=\"data row30 col1\" >0.000790878</td> \n",
       "    </tr>    <tr> \n",
       "        <th id=\"T_eebee0b8_fa60_11e8_a8cc_f200c530f001level0_row31\" class=\"row_heading level0 row31\" >20</th> \n",
       "        <td id=\"T_eebee0b8_fa60_11e8_a8cc_f200c530f001row31_col0\" class=\"data row31 col0\" >HalfBath</td> \n",
       "        <td id=\"T_eebee0b8_fa60_11e8_a8cc_f200c530f001row31_col1\" class=\"data row31 col1\" >0.000698673</td> \n",
       "    </tr>    <tr> \n",
       "        <th id=\"T_eebee0b8_fa60_11e8_a8cc_f200c530f001level0_row32\" class=\"row_heading level0 row32\" >84</th> \n",
       "        <td id=\"T_eebee0b8_fa60_11e8_a8cc_f200c530f001row32_col0\" class=\"data row32 col0\" >LotShape_Reg</td> \n",
       "        <td id=\"T_eebee0b8_fa60_11e8_a8cc_f200c530f001row32_col1\" class=\"data row32 col1\" >0.00028954</td> \n",
       "    </tr>    <tr> \n",
       "        <th id=\"T_eebee0b8_fa60_11e8_a8cc_f200c530f001level0_row33\" class=\"row_heading level0 row33\" >65</th> \n",
       "        <td id=\"T_eebee0b8_fa60_11e8_a8cc_f200c530f001row33_col0\" class=\"data row33 col0\" >MSZoning_RM</td> \n",
       "        <td id=\"T_eebee0b8_fa60_11e8_a8cc_f200c530f001row33_col1\" class=\"data row33 col1\" >0.000287823</td> \n",
       "    </tr>    <tr> \n",
       "        <th id=\"T_eebee0b8_fa60_11e8_a8cc_f200c530f001level0_row34\" class=\"row_heading level0 row34\" >226</th> \n",
       "        <td id=\"T_eebee0b8_fa60_11e8_a8cc_f200c530f001row34_col0\" class=\"data row34 col0\" >KitchenQual_Gd</td> \n",
       "        <td id=\"T_eebee0b8_fa60_11e8_a8cc_f200c530f001row34_col1\" class=\"data row34 col1\" >0.000238015</td> \n",
       "    </tr>    <tr> \n",
       "        <th id=\"T_eebee0b8_fa60_11e8_a8cc_f200c530f001level0_row35\" class=\"row_heading level0 row35\" >205</th> \n",
       "        <td id=\"T_eebee0b8_fa60_11e8_a8cc_f200c530f001row35_col0\" class=\"data row35 col0\" >FireplaceQu_Gd</td> \n",
       "        <td id=\"T_eebee0b8_fa60_11e8_a8cc_f200c530f001row35_col1\" class=\"data row35 col1\" >0.00021875</td> \n",
       "    </tr>    <tr> \n",
       "        <th id=\"T_eebee0b8_fa60_11e8_a8cc_f200c530f001level0_row36\" class=\"row_heading level0 row36\" >2</th> \n",
       "        <td id=\"T_eebee0b8_fa60_11e8_a8cc_f200c530f001row36_col0\" class=\"data row36 col0\" >LotFrontage</td> \n",
       "        <td id=\"T_eebee0b8_fa60_11e8_a8cc_f200c530f001row36_col1\" class=\"data row36 col1\" >0.000176266</td> \n",
       "    </tr>    <tr> \n",
       "        <th id=\"T_eebee0b8_fa60_11e8_a8cc_f200c530f001level0_row37\" class=\"row_heading level0 row37\" >130</th> \n",
       "        <td id=\"T_eebee0b8_fa60_11e8_a8cc_f200c530f001row37_col0\" class=\"data row37 col0\" >CentralAir_N</td> \n",
       "        <td id=\"T_eebee0b8_fa60_11e8_a8cc_f200c530f001row37_col1\" class=\"data row37 col1\" >0.000169909</td> \n",
       "    </tr>    <tr> \n",
       "        <th id=\"T_eebee0b8_fa60_11e8_a8cc_f200c530f001level0_row38\" class=\"row_heading level0 row38\" >0</th> \n",
       "        <td id=\"T_eebee0b8_fa60_11e8_a8cc_f200c530f001row38_col0\" class=\"data row38 col0\" >Id</td> \n",
       "        <td id=\"T_eebee0b8_fa60_11e8_a8cc_f200c530f001row38_col1\" class=\"data row38 col1\" >0.000123982</td> \n",
       "    </tr>    <tr> \n",
       "        <th id=\"T_eebee0b8_fa60_11e8_a8cc_f200c530f001level0_row39\" class=\"row_heading level0 row39\" >92</th> \n",
       "        <td id=\"T_eebee0b8_fa60_11e8_a8cc_f200c530f001row39_col0\" class=\"data row39 col0\" >LotShape_IR1</td> \n",
       "        <td id=\"T_eebee0b8_fa60_11e8_a8cc_f200c530f001row39_col1\" class=\"data row39 col1\" >0.000120373</td> \n",
       "    </tr>    <tr> \n",
       "        <th id=\"T_eebee0b8_fa60_11e8_a8cc_f200c530f001level0_row40\" class=\"row_heading level0 row40\" >182</th> \n",
       "        <td id=\"T_eebee0b8_fa60_11e8_a8cc_f200c530f001row40_col0\" class=\"data row40 col0\" >BsmtExposure_No</td> \n",
       "        <td id=\"T_eebee0b8_fa60_11e8_a8cc_f200c530f001row40_col1\" class=\"data row40 col1\" >0.000112729</td> \n",
       "    </tr></tbody> \n",
       "</table> "
      ],
      "text/plain": [
       "<pandas.io.formats.style.Styler at 0x1116797f0>"
      ]
     },
     "execution_count": 47,
     "metadata": {},
     "output_type": "execute_result"
    }
   ],
   "source": [
    "#Важность признаков для модели\n",
    "Columns = pd.DataFrame(X.columns, columns=['column'])\n",
    "Columns['importance'] = pd.Series(reg_rf.feature_importances_)\n",
    "#Выбираем только значимые признаки для модели и сортируем их в порядке значимости\n",
    "Columns[(Columns['importance']>0)].sort_values('importance', ascending=False).style.bar()"
   ]
  },
  {
   "cell_type": "markdown",
   "metadata": {},
   "source": [
    "## 3. Стекинг из трех моделей -  1 линейную модель и 1 нелинейную"
   ]
  },
  {
   "cell_type": "markdown",
   "metadata": {},
   "source": [
    "Обучить стекинг как минимум 3х моделей, использовать хотя бы 1 линейную модель и 1 нелинейную\n",
    "Для валидации модели 2-го уровня использовать отдельный hold-out датасет, как на занятии"
   ]
  },
  {
   "cell_type": "code",
   "execution_count": 72,
   "metadata": {},
   "outputs": [],
   "source": [
    "#Модели для получения мета-признаков\n",
    "from sklearn.ensemble import RandomForestRegressor\n",
    "from sklearn.linear_model import LinearRegression\n",
    "from sklearn.linear_model import LogisticRegression\n",
    "\n",
    "#Инструмент для разбиения на фолды\n",
    "from sklearn.model_selection import StratifiedKFold"
   ]
  },
  {
   "cell_type": "code",
   "execution_count": 73,
   "metadata": {},
   "outputs": [],
   "source": [
    "# Три модели для стекинга\n",
    "stack_models = [  # Случайный лес\n",
    "                 RandomForestRegressor(),\n",
    "                  # Логистическая регрессия\n",
    "                 LogisticRegression(),\n",
    "                  # Линейная регрессия\n",
    "                 LinearRegression()\n",
    "                ]"
   ]
  },
  {
   "cell_type": "code",
   "execution_count": 74,
   "metadata": {},
   "outputs": [],
   "source": [
    "temp = RandomForestRegressor()"
   ]
  },
  {
   "cell_type": "code",
   "execution_count": 75,
   "metadata": {
    "scrolled": true
   },
   "outputs": [],
   "source": [
    "# Создание обучающих и тестовых выборок\n",
    "X_train, X_test, y_train, y_test = train_test_split(X, y, test_size=0.2)"
   ]
  },
  {
   "cell_type": "code",
   "execution_count": 95,
   "metadata": {},
   "outputs": [],
   "source": [
    "# Функция для получения мета-признаков\n",
    "def get_meta_features(clf, X_train, y_train, X_test, stack_cv):\n",
    "    meta_train = np.zeros_like(y_train, dtype=float)\n",
    "    meta_test = np.zeros_like(y_test, dtype=float)\n",
    "    \n",
    "    #print(X_train, y_train)\n",
    "    for i, (train_ind, test_ind) in enumerate(stack_cv.split(X_train, y_train)):\n",
    "        clf.fit(X_train.iloc[train_ind], y_train.iloc[train_ind])\n",
    "        meta_train[test_ind] = clf.predict(X_train.iloc[test_ind])\n",
    "        meta_test += clf.predict(X_test)\n",
    "    \n",
    "    return meta_train, meta_test / stack_cv.n_splits"
   ]
  },
  {
   "cell_type": "code",
   "execution_count": 96,
   "metadata": {},
   "outputs": [],
   "source": [
    "# Разбиваем на фолды\n",
    "stack_cv = StratifiedKFold(n_splits=4, random_state=555)"
   ]
  },
  {
   "cell_type": "code",
   "execution_count": 97,
   "metadata": {},
   "outputs": [
    {
     "name": "stdout",
     "output_type": "stream",
     "text": [
      "Обучение и создание признаков для модели RandomForestRegressor\n"
     ]
    },
    {
     "name": "stderr",
     "output_type": "stream",
     "text": [
      "/Users/akirichenko/anaconda3/lib/python3.6/site-packages/sklearn/model_selection/_split.py:605: Warning: The least populated class in y has only 1 members, which is too few. The minimum number of members in any class cannot be less than n_splits=4.\n",
      "  % (min_groups, self.n_splits)), Warning)\n"
     ]
    },
    {
     "name": "stdout",
     "output_type": "stream",
     "text": [
      "Обучение и создание признаков для модели LogisticRegression\n"
     ]
    },
    {
     "name": "stderr",
     "output_type": "stream",
     "text": [
      "/Users/akirichenko/anaconda3/lib/python3.6/site-packages/sklearn/model_selection/_split.py:605: Warning: The least populated class in y has only 1 members, which is too few. The minimum number of members in any class cannot be less than n_splits=4.\n",
      "  % (min_groups, self.n_splits)), Warning)\n"
     ]
    },
    {
     "name": "stdout",
     "output_type": "stream",
     "text": [
      "Обучение и создание признаков для модели LinearRegression\n"
     ]
    }
   ],
   "source": [
    "# Получаем метапризнаки для мета-модели\n",
    "meta_train = []\n",
    "meta_test = []\n",
    "col_names = []\n",
    "\n",
    "# Создание мета-признаков\n",
    "for i in stack_models:\n",
    "    print(\"Обучение и создание признаков для модели {0}\".format(i.__class__.__name__))\n",
    "    meta_train_new, meta_test_new =  get_meta_features(i, X_train, y_train, X_test, stack_cv)\n",
    "    meta_train.append(meta_train_new)\n",
    "    meta_test.append(meta_test_new)\n",
    "    col_names.append(i.__class__.__name__)\n",
    "    "
   ]
  },
  {
   "cell_type": "code",
   "execution_count": 108,
   "metadata": {},
   "outputs": [],
   "source": [
    "X_meta_train = pd.DataFrame({col_names[i]: meta_train[i] for i in range(len(col_names))})\n",
    "X_meta_test = pd.DataFrame({col_names[i]: meta_test[i] for i in range(len(col_names))})"
   ]
  },
  {
   "cell_type": "code",
   "execution_count": 115,
   "metadata": {},
   "outputs": [
    {
     "name": "stdout",
     "output_type": "stream",
     "text": [
      "Оценка мета-модели RandomForestRegressor : 0.7586161233168023\n",
      "Оценка мета-модели LogisticRegression : 0.00684931506849315\n",
      "Оценка мета-модели LinearRegression : 0.8957097581013334\n"
     ]
    }
   ],
   "source": [
    "# Обучение мета-моделей\n",
    "for i in stack_models:\n",
    "    i.fit(X_meta_train, y_train)\n",
    "    score = i.score(X_meta_test, y_test)\n",
    "    print('Оценка мета-модели {0} : {1}'.format(i.__class__.__name__, score))\n"
   ]
  }
 ],
 "metadata": {
  "kernelspec": {
   "display_name": "Python 3",
   "language": "python",
   "name": "python3"
  },
  "language_info": {
   "codemirror_mode": {
    "name": "ipython",
    "version": 3
   },
   "file_extension": ".py",
   "mimetype": "text/x-python",
   "name": "python",
   "nbconvert_exporter": "python",
   "pygments_lexer": "ipython3",
   "version": "3.6.5"
  }
 },
 "nbformat": 4,
 "nbformat_minor": 2
}
